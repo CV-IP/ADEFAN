{
 "cells": [
  {
   "cell_type": "markdown",
   "metadata": {},
   "source": [
    "# Extreme Video Completion"
   ]
  },
  {
   "cell_type": "code",
   "execution_count": 1,
   "metadata": {},
   "outputs": [],
   "source": [
    "import numpy as np\n",
    "import matplotlib.pyplot as plt\n",
    "import cv2\n",
    "import time\n",
    "import os\n",
    "import concurrent.futures as multithreading\n",
    "from scipy.stats import entropy"
   ]
  },
  {
   "cell_type": "code",
   "execution_count": 2,
   "metadata": {},
   "outputs": [],
   "source": [
    "class Video:\n",
    "    \n",
    "    @staticmethod\n",
    "    def compress(\n",
    "        filename, \n",
    "        output_dst = None, \n",
    "        fraction   = 0.01, \n",
    "        verbose    = False\n",
    "    ):\n",
    "        def get_indices(\n",
    "            height, \n",
    "            width, \n",
    "            fraction\n",
    "        ):\n",
    "            def to_2d(\n",
    "                index\n",
    "            ):\n",
    "                return (index // width, index % width)\n",
    "\n",
    "            samples = np.random.permutation(width * height)[:int(width * height * fraction)]\n",
    "\n",
    "            indices = [to_2d(index) for index in samples]\n",
    "\n",
    "            return tuple(zip(*indices))\n",
    "\n",
    "\n",
    "        def sample_frame(\n",
    "            frame, \n",
    "            fraction\n",
    "        ):\n",
    "            height, width, nb_channels = frame.shape\n",
    "\n",
    "            indices = get_indices(height, width, fraction)\n",
    "\n",
    "            return np.expand_dims(frame[indices], axis=0)\n",
    "\n",
    "\n",
    "        seed = np.array(np.random.randint(0, np.iinfo(np.int32).max))\n",
    "        np.random.seed(seed)\n",
    "        \n",
    "        cap = cv2.VideoCapture(filename)\n",
    "        framerate = np.array(cap.get(cv2.cv2.CAP_PROP_FPS))\n",
    "\n",
    "        num_frames = int(cap.get(cv2.CAP_PROP_FRAME_COUNT))\n",
    "        start_time = time.time()\n",
    "\n",
    "        ret, frame = cap.read()\n",
    "        dimensions = np.array(frame.shape)\n",
    "\n",
    "        video = sample_frame(frame, fraction)\n",
    "        curr_frame = 1\n",
    "\n",
    "        while cap.isOpened():\n",
    "            ret, frame = cap.read()\n",
    "\n",
    "            if not ret:\n",
    "                break\n",
    "\n",
    "            sampled_frame = sample_frame(frame, fraction)\n",
    "\n",
    "            video = np.vstack((video, sampled_frame))\n",
    "\n",
    "            curr_frame += 1\n",
    "            if verbose:\n",
    "                print('Compressing Video: ' + str(int(100 * curr_frame / num_frames)) + \n",
    "                      '%\\tTime Elapsed: ' + str(int(np.floor(time.time() - start_time))) + ' seconds', end='\\r')\n",
    "\n",
    "        cap.release()\n",
    "        \n",
    "        if verbose:\n",
    "            print('Compressing Video: 100%\\tTime Elapsed: ' + str(int(np.floor(time.time() - start_time))) + ' seconds')\n",
    "\n",
    "        if output_dst is None:\n",
    "            output_dst = '../Results/CompressedVideos/' + str(int(fraction * 100)) + \\\n",
    "                         'percent/' + filename.split('/')[-1].split('.')[0]\n",
    "        \n",
    "        np.savez_compressed(\n",
    "            output_dst, \n",
    "            video=video, \n",
    "            dimensions=dimensions, \n",
    "            framerate=framerate,\n",
    "            seed=seed,\n",
    "            fraction=np.array(fraction)\n",
    "        )\n",
    "    \n",
    "    \n",
    "    @staticmethod\n",
    "    def jpg_reconstruct(\n",
    "        filename, \n",
    "        output_dst = 'out.mov', \n",
    "        quality    = 80\n",
    "    ):\n",
    "        cap = cv2.VideoCapture(filename)\n",
    "        \n",
    "        framerate = np.array(cap.get(cv2.cv2.CAP_PROP_FPS))\n",
    "        num_frames = int(cap.get(cv2.CAP_PROP_FRAME_COUNT))\n",
    "        start_time = time.time()\n",
    "        \n",
    "        _, frame = cap.read()\n",
    "        height, width, _ = frame.shape\n",
    "        \n",
    "        out = cv2.VideoWriter(\n",
    "            output_dst, \n",
    "            cv2.VideoWriter_fourcc('M','J','P','G'), \n",
    "            framerate, \n",
    "            (width, height)\n",
    "        )\n",
    "        \n",
    "        jpg_params = [int(cv2.IMWRITE_JPEG_QUALITY), quality]\n",
    "\n",
    "        _, encoded = cv2.imencode('.jpg', frame, jpg_params)\n",
    "        decoded = cv2.imdecode(encoded, 1)\n",
    "        out.write(decoded)\n",
    "        \n",
    "        curr_frame = 1\n",
    "        \n",
    "        while cap.isOpened():\n",
    "            ret, frame = cap.read()\n",
    "            \n",
    "            if not ret:\n",
    "                break\n",
    "\n",
    "            _, encoded = cv2.imencode('.jpg', frame, jpg_params)\n",
    "            decoded = cv2.imdecode(encoded, 1)\n",
    "            out.write(decoded)\n",
    "            \n",
    "            curr_frame += 1\n",
    "            print('Compressing with JPG: ' + str(int(100 * curr_frame / num_frames)) +\n",
    "                  '%\\tTime Elapsed: ' + str(int(np.floor(time.time() - start_time))) + ' seconds', end='\\r')\n",
    "        \n",
    "        print('Compressing with JPG: 100%\\tTime Elapsed: ' + str(int(np.floor(time.time() - start_time))) + ' seconds')\n",
    "            \n",
    "        out.release()\n",
    "        cap.release()\n",
    "\n",
    "    \n",
    "    @staticmethod\n",
    "    def psnr(\n",
    "        original, \n",
    "        reconstructed, \n",
    "        color_channels = 'bgr'\n",
    "    ):\n",
    "        \n",
    "        cap_original = cv2.VideoCapture(original)\n",
    "        cap_reconstructed = cv2.VideoCapture(reconstructed)\n",
    "        \n",
    "        num_frames_original = int(cap_original.get(cv2.CAP_PROP_FRAME_COUNT))\n",
    "        num_frames_reconstructed = int(cap_reconstructed.get(cv2.CAP_PROP_FRAME_COUNT))\n",
    "        num_frames = min(num_frames_original, num_frames_reconstructed)\n",
    "        \n",
    "        mse_list = []\n",
    "        max_pixel_value = np.iinfo(np.uint8).max\n",
    "        \n",
    "        start_time = time.time()\n",
    "        curr_frame = 0\n",
    "        \n",
    "        while cap_original.isOpened() and cap_reconstructed.isOpened():\n",
    "            ret_original, frame_original = cap_original.read()\n",
    "            ret_reconstructed, frame_reconstructed = cap_reconstructed.read()\n",
    "            \n",
    "            if (not ret_original) or (not ret_reconstructed):\n",
    "                break\n",
    "            \n",
    "            height = frame_original.shape[0]\n",
    "            width = frame_original.shape[1]\n",
    "            frame_mse = 0\n",
    "            \n",
    "            if color_channels == 'bgr':\n",
    "                nb_channels = frame_original.shape[2]\n",
    "                total_squared_error = np.sum(np.square(frame_original.astype(int) - \n",
    "                                                       frame_reconstructed.astype(int)))\n",
    "                frame_mse = total_squared_error / (width * height * nb_channels)\n",
    "            \n",
    "            elif color_channels == 'ycrcb':\n",
    "                frame_original = cv2.cvtColor(frame_original, cv2.COLOR_BGR2YCrCb)\n",
    "                frame_reconstructed = cv2.cvtColor(frame_reconstructed, cv2.COLOR_BGR2YCrCb)\n",
    "                total_squared_error = np.sum(np.square(frame_original[:,:,0].astype(int) - \n",
    "                                                       frame_reconstructed[:,:,0].astype(int)))\n",
    "                frame_mse = total_squared_error / (width * height)\n",
    "            \n",
    "            mse_list.append(frame_mse)\n",
    "            \n",
    "            curr_frame += 1\n",
    "            print('Computing PSNR: ' + str(int(100 * curr_frame / num_frames)) +\n",
    "                  '%\\tTime Elapsed: ' + str(int(np.floor(time.time() - start_time))) + ' seconds', end='\\r')\n",
    "        \n",
    "        mse = np.mean(mse_list)\n",
    "        psnr = 10 * np.log10((max_pixel_value ** 2) / mse)\n",
    "        \n",
    "        print('Computing PSNR: 100%\\tTime Elapsed: ' + str(int(np.floor(time.time() - start_time))) + ' seconds')\n",
    "        \n",
    "        cap_original.release()\n",
    "        cap_reconstructed.release()\n",
    "        \n",
    "        return psnr\n",
    "    \n",
    "    \n",
    "    @staticmethod\n",
    "    def color_distributions(\n",
    "        filename, \n",
    "        window_width, \n",
    "        max_num_frames = 100, \n",
    "        alpha          = 0.95, \n",
    "        color_channels = 'bgr',\n",
    "        concatenate    = False, \n",
    "        seed           = 28374\n",
    "    ):\n",
    "        np.random.seed(seed)\n",
    "        window_overlap = 0.5\n",
    "        \n",
    "        uniform = np.ones(np.iinfo(np.uint8).max + 1) / (np.iinfo(np.uint8).max + 1)\n",
    "        \n",
    "        cap = cv2.VideoCapture(filename)\n",
    "        \n",
    "        ret, frame = cap.read()\n",
    "        height = frame.shape[0]\n",
    "        width = frame.shape[1]\n",
    "        nb_channels = frame.shape[2]\n",
    "        \n",
    "        def intervals(\n",
    "            length\n",
    "        ):\n",
    "            return [slice(x, min(x + window_width, length)) for x in \n",
    "                    range(0, max(1, length - int(window_width * window_overlap)), \n",
    "                          int(window_width * (1 - window_overlap)))]\n",
    "\n",
    "\n",
    "        def window_color_distributions(\n",
    "            window\n",
    "        ):\n",
    "            if color_channels == 'ycrbr':\n",
    "                nb_relevant_channels = 1\n",
    "            else:\n",
    "                nb_relevant_channels = nb_channels\n",
    "        \n",
    "            dist = np.array([alpha * np.histogram(window[:,channel], \n",
    "                                                  bins=range(np.iinfo(np.uint8).max + 2), \n",
    "                                                  density=True)[0] +\n",
    "                             (1 - alpha) * uniform\n",
    "                             for channel in range(nb_relevant_channels)])\n",
    "            \n",
    "            if concatenate:\n",
    "                return dist.flatten()\n",
    "            else:\n",
    "                return dist\n",
    "        \n",
    "        \n",
    "        windows = [(y, x) for x in intervals(width) for y in intervals(height)]\n",
    "        frames_color_distributions = []\n",
    "        num_frames_processed = 1\n",
    "        \n",
    "        window = windows[np.random.randint(0, len(windows))]\n",
    "        \n",
    "        frame_color_distributions = [\n",
    "            window_color_distributions(frame[window].reshape(\n",
    "                ((window[0].stop - window[0].start) * (window[1].stop - window[1].start), \n",
    "                 nb_channels)\n",
    "            ))\n",
    "        ]\n",
    "        \n",
    "        frames_color_distributions.append(frame_color_distributions)\n",
    "        \n",
    "        while cap.isOpened():\n",
    "            ret, frame = cap.read()\n",
    "\n",
    "            if not ret:\n",
    "                break\n",
    "            \n",
    "            window = windows[np.random.randint(0, len(windows))]\n",
    "            \n",
    "            frame_color_distributions = [\n",
    "                window_color_distributions(frame[window].reshape(\n",
    "                    ((window[0].stop - window[0].start) * (window[1].stop - window[1].start), \n",
    "                     nb_channels)\n",
    "                ))\n",
    "            ]\n",
    "            \n",
    "            frames_color_distributions.append(frame_color_distributions)\n",
    "            \n",
    "            num_frames_processed += 1\n",
    "            if num_frames_processed >= max_num_frames:\n",
    "                break\n",
    "\n",
    "        cap.release()\n",
    "        \n",
    "        return np.array(frames_color_distributions)"
   ]
  },
  {
   "cell_type": "code",
   "execution_count": 3,
   "metadata": {},
   "outputs": [],
   "source": [
    "class Kernels:\n",
    "    \n",
    "    @staticmethod\n",
    "    def kernel_2d(\n",
    "        kernel_size, \n",
    "        sigma\n",
    "    ):\n",
    "        center = (kernel_size - 1) / 2\n",
    "        kernel = np.fromfunction(\n",
    "            lambda x, y: \n",
    "                np.exp( -0.5 * ((x - center) ** 2 + (y - center) ** 2) / (sigma ** 2)), \n",
    "            (kernel_size, kernel_size), \n",
    "            dtype=float\n",
    "        )\n",
    "        return kernel\n",
    "    \n",
    "    \n",
    "    @staticmethod\n",
    "    def kernel_3d(\n",
    "        kernel_size, \n",
    "        sigma, \n",
    "        num_kernels, \n",
    "        sigma_time\n",
    "    ):\n",
    "        center = (kernel_size - 1) / 2\n",
    "        kernels = np.fromfunction(\n",
    "            lambda t, x, y: \n",
    "                np.exp( -0.5 * (\n",
    "                                 (((x - center) ** 2 + (y - center) ** 2) / (sigma ** 2)) + \n",
    "                                  ((t ** 2) / (sigma_time ** 2))\n",
    "                               )\n",
    "                ), \n",
    "            (num_kernels, kernel_size, kernel_size), \n",
    "            dtype=float\n",
    "        )\n",
    "        return kernels\n",
    "\n",
    "\n",
    "class CompressedVideo:\n",
    "    \n",
    "    def __init__(\n",
    "        self, \n",
    "        filename\n",
    "    ):\n",
    "        file_dict = np.load(filename)\n",
    "        \n",
    "        self.filename = filename.split('.npz')[0]\n",
    "        self.height = file_dict['dimensions'][0]\n",
    "        self.width = file_dict['dimensions'][1]\n",
    "        self.nb_channels = file_dict['dimensions'][2]\n",
    "        self.video = file_dict['video']\n",
    "        self.num_frames = self.video.shape[0]\n",
    "        self.framerate = file_dict['framerate']\n",
    "        self.seed = file_dict['seed']\n",
    "        self.fraction = file_dict['fraction']\n",
    "        \n",
    "        # Create indices from seed\n",
    "        def indices_generator():\n",
    "            np.random.seed(self.seed)\n",
    "            for idx in range(self.num_frames):\n",
    "                samples = np.random.permutation(self.width * self.height)[:int(self.width * self.height * self.fraction)]\n",
    "                yield tuple(zip(*[(index // self.width, index % self.width) for index in samples]))\n",
    "        \n",
    "        self.indices = np.array([i for i in indices_generator()])\n",
    "        \n",
    "        \n",
    "        self.defaults = {}\n",
    "        self.defaults['sigma']           = np.sqrt((self.height * self.width) / \n",
    "                                                   (self.video[0].shape[0] * np.pi))\n",
    "        self.defaults['kernel_size']     = 2 * (int(0.5 + 3 * self.defaults['sigma']) + 2) + 1\n",
    "        self.defaults['num_time_frames'] = 99\n",
    "        self.defaults['output_dst']      = self.filename + '_reconstructed.mov'\n",
    "        self.defaults['multithreaded']   = True\n",
    "        self.defaults['alpha']           = 0.95\n",
    "        self.defaults['beta']            = 14\n",
    "        self.defaults['window_width']    = {\n",
    "            '0.01': 240,\n",
    "            '0.02': 160,\n",
    "            '0.03': 140,\n",
    "            '0.04': 110,\n",
    "            '0.05': 100,\n",
    "            '0.06': 80,\n",
    "            '0.07': 75,\n",
    "            '0.08': 70\n",
    "        }\n",
    "        self.defaults['window_overlap']  = 0.5\n",
    "    \n",
    "    \n",
    "    def reconstruct(\n",
    "        self, \n",
    "        algorithm      = 'efan2d', \n",
    "        color_channels = 'bgr', \n",
    "        verbose        = False, \n",
    "        filter_type    = 'normal',\n",
    "        avg_method     = 'normal',\n",
    "        kernel_type    = 'constant',\n",
    "        **kwargs\n",
    "    ):\n",
    "        \"\"\"\n",
    "        TODO complete description\n",
    "        \"\"\"\n",
    "        \n",
    "        if 'kernel_size' in kwargs:\n",
    "            kernel_size = kwargs['kernel_size']\n",
    "        else:\n",
    "            kernel_size = self.defaults['kernel_size']\n",
    "        \n",
    "        if 'sigma' in kwargs:\n",
    "            sigma = kwargs['sigma']\n",
    "        else:\n",
    "            sigma = self.defaults['sigma']\n",
    "        \n",
    "        if 'num_time_frames' in kwargs:\n",
    "            num_time_frames = kwargs['num_time_frames']\n",
    "        else:\n",
    "            num_time_frames = self.defaults['num_time_frames']\n",
    "        \n",
    "        if 'output_dst' in kwargs:\n",
    "            output_dst = kwargs['output_dst']\n",
    "        else:\n",
    "            output_dst = self.defaults['output_dst']\n",
    "        \n",
    "        if 'multithreaded' in kwargs:\n",
    "            multithreaded = kwargs['multithreaded']\n",
    "        else:\n",
    "            multithreaded = self.defaults['multithreaded']\n",
    "        \n",
    "        if 'alpha' in kwargs:\n",
    "            alpha = kwargs['alpha']\n",
    "        else:\n",
    "            alpha = self.defaults['alpha']\n",
    "        \n",
    "        if 'beta' in kwargs:\n",
    "            beta = kwargs['beta']\n",
    "        else:\n",
    "            beta = self.defaults['beta']\n",
    "        \n",
    "        if 'window_width' in kwargs:\n",
    "            window_width = kwargs['window_width']\n",
    "        else:\n",
    "            window_width = self.defaults['window_width'][str(self.fraction)]\n",
    "        \n",
    "        if 'window_overlap' in kwargs:\n",
    "            window_overlap = kwargs['window_overlap']\n",
    "        else:\n",
    "            window_overlap = self.defaults['window_overlap']\n",
    "        \n",
    "        \n",
    "        def display_progress(\n",
    "            frame_index, \n",
    "            start_time, \n",
    "            filter_times, \n",
    "            complete = False\n",
    "        ):\n",
    "            if verbose:\n",
    "                print('Reconstructing Video: ' + str(int(100 * frame_index / self.num_frames)) + '% ' + \n",
    "                      '\\tTime Elapsed: ' + str(np.round(time.time() - start_time, 2)) + ' seconds ' +\n",
    "                      '\\tFilter Time: '  + str(np.round(np.sum(filter_times), 2)) + ' seconds', end='\\r')\n",
    "\n",
    "                if complete:\n",
    "                    print('')\n",
    "        \n",
    "        \n",
    "        def prepare_frame(\n",
    "            frame_index\n",
    "        ):\n",
    "            frame = self.video[frame_index]\n",
    "            indices = self.indices[frame_index]\n",
    "\n",
    "            black_frame = np.zeros((self.height, self.width, self.nb_channels))\n",
    "                \n",
    "            if color_channels == 'ycrcb':\n",
    "                frame = cv2.cvtColor(np.expand_dims(frame, axis=0), cv2.COLOR_BGR2YCrCb)[0]\n",
    "            \n",
    "            black_frame[tuple(indices)] = frame\n",
    "\n",
    "            new_channel = np.zeros((self.height, self.width, 1)) + 1e-10 # To avoid division by zero\n",
    "            new_channel[tuple(indices)] = 1.0\n",
    "\n",
    "            augmented_frame = np.append(black_frame, new_channel, axis=2)\n",
    "            \n",
    "            return augmented_frame\n",
    "        \n",
    "        \n",
    "        def normalize_frame(\n",
    "            frame\n",
    "        ):\n",
    "            for i in range(self.nb_channels):\n",
    "                frame[:,:,i] /= frame[:,:,-1]\n",
    "\n",
    "            reconstructed_frame = (frame[:,:,:-1] + 0.5).astype(np.uint8)\n",
    "            \n",
    "            return reconstructed_frame\n",
    "        \n",
    "        \n",
    "        def efan2d(\n",
    "            output\n",
    "        ):\n",
    "            \"\"\"\n",
    "            EFAN2D Algorithm\n",
    "            \"\"\"\n",
    "            \n",
    "            filter_times = []\n",
    "\n",
    "            def filter_frame(\n",
    "                frame_index, \n",
    "                kernel\n",
    "            ):\n",
    "                augmented_frame = prepare_frame(frame_index)\n",
    "\n",
    "                st = time.time()\n",
    "                filtered = cv2.filter2D(augmented_frame, -1, kernel, \n",
    "                                        borderType=cv2.BORDER_CONSTANT)\n",
    "                filter_times.append(time.time() - st)\n",
    "                \n",
    "                return filtered\n",
    "            \n",
    "            \n",
    "            def reconstruct_frame(\n",
    "                frame_index, \n",
    "                kernel\n",
    "            ):\n",
    "                filtered = filter_frame(frame_index, kernel)\n",
    "                reconstructed_frame = normalize_frame(filtered)\n",
    "                \n",
    "                return reconstructed_frame\n",
    "            \n",
    "            \n",
    "            start_time = time.time()\n",
    "            \n",
    "            kernel = Kernels.kernel_2d(kernel_size, sigma)\n",
    "            \n",
    "            display_progress(0, start_time, filter_times)\n",
    "            \n",
    "            for frame_index in range(self.num_frames):\n",
    "                reconstructed_frame = reconstruct_frame(frame_index, kernel)\n",
    "                \n",
    "                if color_channels == 'ycrcb':\n",
    "                    reconstructed_frame = cv2.cvtColor(reconstructed_frame, cv2.COLOR_YCrCb2BGR)\n",
    "                \n",
    "                output.write(reconstructed_frame)\n",
    "                display_progress(frame_index, start_time, filter_times)\n",
    "            \n",
    "            display_progress(self.num_frames, start_time, filter_times, complete=True)\n",
    "\n",
    "\n",
    "        def efan3d(\n",
    "            output\n",
    "        ):\n",
    "            \"\"\"\n",
    "            EFAN3D Algorithm\n",
    "            \"\"\"\n",
    "            \n",
    "            num_kernels = (num_time_frames + 1) // 2\n",
    "            sigma_time = (num_kernels - 1) / 6\n",
    "            \n",
    "            filter_times = []\n",
    "            \n",
    "            def filter_frame(\n",
    "                frame_index, \n",
    "                kernels\n",
    "            ):\n",
    "                augmented_frame = prepare_frame(frame_index)\n",
    "\n",
    "                st = time.time()\n",
    "                \n",
    "                if multithreaded:\n",
    "                    filtered_frame = [None for i in range(num_kernels)]\n",
    "\n",
    "                    def apply_kernel(\n",
    "                        kernel_index\n",
    "                    ):\n",
    "                        filtered = cv2.filter2D(augmented_frame, -1, kernels[kernel_index], \n",
    "                                                borderType=cv2.BORDER_CONSTANT)\n",
    "                        filtered_frame[kernel_index] = filtered\n",
    "\n",
    "                    with multithreading.ThreadPoolExecutor(max_workers=num_kernels) as executor:\n",
    "                        executor.map(apply_kernel, range(num_kernels))\n",
    "                \n",
    "                else:\n",
    "                    filtered_frame = []\n",
    "                    for kernel in kernels:\n",
    "                        filtered = cv2.filter2D(augmented_frame, -1, kernel, \n",
    "                                                borderType=cv2.BORDER_CONSTANT)\n",
    "                        filtered_frame.append(filtered)\n",
    "                \n",
    "                filter_times.append(time.time() - st)\n",
    "                \n",
    "                return filtered_frame\n",
    "            \n",
    "            \n",
    "            def reconstruct_frame(\n",
    "                frame_index, \n",
    "                filtered_frames\n",
    "            ):\n",
    "                filtered_sum = np.zeros((self.height, self.width, self.nb_channels + 1))\n",
    "            \n",
    "                nb_past_frames = min(frame_index, num_kernels - 1)\n",
    "                for idx in range(nb_past_frames):\n",
    "                    filtered_sum += filtered_frames[idx][nb_past_frames - idx]\n",
    "\n",
    "                nb_future_frames = min(self.num_frames - frame_index, num_kernels)\n",
    "                for idx in range(nb_future_frames):\n",
    "                    filtered_sum += filtered_frames[min(frame_index, num_kernels - 1) + idx][idx]\n",
    "                \n",
    "                reconstructed_frame = normalize_frame(filtered_sum)\n",
    "                \n",
    "                return reconstructed_frame\n",
    "            \n",
    "            \n",
    "            start_time = time.time()\n",
    "            \n",
    "            kernels = Kernels.kernel_3d(kernel_size, sigma, num_kernels, sigma_time)\n",
    "            \n",
    "            filtered_frames = []\n",
    "            \n",
    "            display_progress(0, start_time, filter_times)\n",
    "            \n",
    "            for frame_index in range(self.num_frames):\n",
    "                \n",
    "                if frame_index == 0:\n",
    "                    for idx in range(num_kernels):\n",
    "                        filtered_frames.append(filter_frame(idx, kernels))\n",
    "                        \n",
    "                elif frame_index < num_kernels:\n",
    "                    filtered_frames.append(filter_frame((num_kernels - 1) + frame_index, kernels))\n",
    "                    \n",
    "                elif frame_index <= self.num_frames - num_kernels:\n",
    "                    filtered_frames.append(filter_frame((num_kernels - 1) + frame_index, kernels))\n",
    "                    filtered_frames = filtered_frames[1:]\n",
    "                    \n",
    "                else:\n",
    "                    filtered_frames = filtered_frames[1:]\n",
    "                \n",
    "                reconstructed_frame = reconstruct_frame(frame_index, filtered_frames)\n",
    "                \n",
    "                if color_channels == 'ycrcb':\n",
    "                    reconstructed_frame = cv2.cvtColor(reconstructed_frame, cv2.COLOR_YCrCb2BGR)\n",
    "                \n",
    "                output.write(reconstructed_frame)\n",
    "                \n",
    "                display_progress(frame_index, start_time, filter_times)\n",
    "            \n",
    "            display_progress(self.num_frames, start_time, filter_times, complete=True)\n",
    "        \n",
    "        \n",
    "        def adefan(\n",
    "            output\n",
    "        ):\n",
    "            \"\"\"\n",
    "            ADEFAN Algorithm\n",
    "            \"\"\"\n",
    "            \n",
    "            num_kernels = (num_time_frames + 1) // 2\n",
    "            sigma_time = (num_kernels - 1) / 6\n",
    "            uniform = np.ones(np.iinfo(np.uint8).max + 1) / (np.iinfo(np.uint8).max + 1)\n",
    "            \n",
    "            window_kernel = Kernels.kernel_2d(window_width, window_width / 6)\n",
    "            \n",
    "            filter_times = []\n",
    "            \n",
    "            def intervals(\n",
    "                length\n",
    "            ):\n",
    "                return [slice(x, min(x + window_width, length)) for x in \n",
    "                        range(0, max(1, length - int(window_width * window_overlap)), \n",
    "                              int(window_width * (1 - window_overlap)))]\n",
    "            \n",
    "            \n",
    "            def window_color_distributions(\n",
    "                window\n",
    "            ):\n",
    "                if color_channels == 'ycrbr':\n",
    "                    nb_relevant_channels = 1\n",
    "                else:\n",
    "                    nb_relevant_channels = self.nb_channels\n",
    "\n",
    "                dist = np.array([alpha * np.histogram(window[:,channel], \n",
    "                                                      bins=range(np.iinfo(np.uint8).max + 2), \n",
    "                                                      density=True)[0] +\n",
    "                                 (1 - alpha) * uniform\n",
    "                                 for channel in range(nb_relevant_channels)])\n",
    "\n",
    "                return dist.flatten()\n",
    "            \n",
    "            \n",
    "            def preprocess_frame(\n",
    "                frame_index, \n",
    "                windows\n",
    "            ):\n",
    "                augmented_frame = prepare_frame(frame_index)\n",
    "                \n",
    "                frame_color_distributions = [\n",
    "                    window_color_distributions(\n",
    "                        augmented_frame[window][augmented_frame[window][:,:,-1] == 1][:,:-1]\n",
    "                    ) for window in windows\n",
    "                ]\n",
    "                \n",
    "                return augmented_frame, frame_color_distributions\n",
    "            \n",
    "            \n",
    "            def compute_max_divergence(\n",
    "                frame_index, \n",
    "                frames_color_distributions\n",
    "            ):\n",
    "                curr_frame_index = min(frame_index, num_kernels - 1)\n",
    "                curr_frame_distributions = frames_color_distributions[curr_frame_index]\n",
    "                num_windows = len(curr_frame_distributions)\n",
    "                \n",
    "                max_frame_index = min(curr_frame_index + num_kernels, \n",
    "                                      len(frames_color_distributions))\n",
    "                \n",
    "                future_div_max = np.full(num_windows, -1.0)\n",
    "                \n",
    "                for window_idx in range(num_windows):\n",
    "                    for idx in range(curr_frame_index + 1, max_frame_index):\n",
    "                        div = entropy(curr_frame_distributions[window_idx], \n",
    "                                      frames_color_distributions[idx][window_idx])\n",
    "\n",
    "                        if div < future_div_max[window_idx]:\n",
    "                            break\n",
    "                        else:\n",
    "                            future_div_max[window_idx] = div\n",
    "                \n",
    "                future_div_max[future_div_max == -1] = np.finfo(np.float32).max\n",
    "                \n",
    "                min_frame_index = max(0, curr_frame_index - num_kernels + 1)\n",
    "                \n",
    "                past_div_max = np.full(num_windows, -1.0)\n",
    "                \n",
    "                for window_idx in range(num_windows):\n",
    "                    for idx in range(min_frame_index, curr_frame_index):\n",
    "                        div = entropy(curr_frame_distributions[window_idx],\n",
    "                                      frames_color_distributions[idx][window_idx])\n",
    "\n",
    "                        if div < past_div_max[window_idx]:\n",
    "                            break\n",
    "                        else:\n",
    "                            past_div_max[window_idx] = div\n",
    "                \n",
    "                past_div_max[past_div_max == -1] = np.finfo(np.float32).max\n",
    "                \n",
    "                return past_div_max, future_div_max\n",
    "            \n",
    "            \n",
    "            def div_to_num_frames(\n",
    "                past_div_max, \n",
    "                future_div_max\n",
    "            ):\n",
    "                conversion = lambda div: int(np.ceil(num_kernels / (1 + beta * div))) - 1\n",
    "                \n",
    "                num_past_frames = np.vectorize(conversion)(past_div_max)\n",
    "                num_future_frames = np.vectorize(conversion)(future_div_max)\n",
    "                \n",
    "                return num_past_frames, num_future_frames\n",
    "            \n",
    "            \n",
    "            def normalize_window(\n",
    "                filtered_window\n",
    "            ):\n",
    "                kernel = window_kernel[:filtered_window.shape[0], :filtered_window.shape[1]]\n",
    "                \n",
    "                for i in range(self.nb_channels):\n",
    "                    filtered_window[:,:,i] /= filtered_window[:,:,-1]\n",
    "                    filtered_window[:,:,i] *= kernel\n",
    "                \n",
    "                filtered_window[:,:,-1] = kernel\n",
    "                \n",
    "                return filtered_window\n",
    "            \n",
    "            \n",
    "            def reconstruct_frame_by_window(\n",
    "                frame_index, \n",
    "                augmented_frames, \n",
    "                windows, \n",
    "                num_past_frames, \n",
    "                num_future_frames,\n",
    "                kernel_type = 'constant',\n",
    "                avg_method  = 'gaussian'\n",
    "            ):  \n",
    "                if kernel_type == 'constant':\n",
    "                    kernels = Kernels.kernel_3d(kernel_size, sigma, num_kernels, sigma_time)\n",
    "                \n",
    "                filtered_sum = np.zeros((self.height, self.width, self.nb_channels + 1))\n",
    "                \n",
    "                for window, window_num_past_frames, window_num_future_frames in \\\n",
    "                    zip(windows, num_past_frames, num_future_frames):\n",
    "                    \n",
    "                    st = time.time()\n",
    "                    \n",
    "                    if kernel_type == 'variable':\n",
    "                        kernels = Kernels.kernel_3d(\n",
    "                            kernel_size, \n",
    "                            sigma, \n",
    "                            window_num_past_frames + 1, \n",
    "                            max(window_num_past_frames / 6, 0.01)\n",
    "                        )\n",
    "                    \n",
    "                    curr_frame_idx = min(frame_index, num_kernels - 1)\n",
    "                    first_past_frame_idx = max(curr_frame_idx - window_num_past_frames, 0)\n",
    "                    past_frames = [f for f in reversed(augmented_frames[first_past_frame_idx:curr_frame_idx])]\n",
    "                    past_filtered_windows = [None] * len(past_frames)\n",
    "                    \n",
    "                    if multithreaded:\n",
    "                        def filter_past_frame(\n",
    "                            past_frame_idx\n",
    "                        ):\n",
    "                            filtered_window = cv2.filter2D(past_frames[past_frame_idx][window], -1, \n",
    "                                                           kernels[past_frame_idx + 1], \n",
    "                                                           borderType=cv2.BORDER_CONSTANT)\n",
    "                            past_filtered_windows[past_frame_idx] = filtered_window\n",
    "                        \n",
    "                        with multithreading.ThreadPoolExecutor(max_workers=max(len(past_frames), 1)) as executor:\n",
    "                            executor.map(filter_past_frame, range(len(past_frames)))\n",
    "                        \n",
    "                    else:\n",
    "                        for idx, past_frame in enumerate(past_frames):\n",
    "                            filtered_window = cv2.filter2D(past_frame[window], -1, kernels[idx + 1], \n",
    "                                                           borderType=cv2.BORDER_CONSTANT)\n",
    "                            past_filtered_windows[idx] = filtered_window\n",
    "                    \n",
    "                    if kernel_type == 'variable':\n",
    "                        kernels = Kernels.kernel_3d(\n",
    "                            kernel_size, \n",
    "                            sigma, \n",
    "                            window_num_future_frames + 1, \n",
    "                            max(window_num_future_frames / 6, 0.01)\n",
    "                        )\n",
    "                    \n",
    "                    last_future_frame_idx = min(curr_frame_idx + window_num_future_frames, len(augmented_frames) - 1)\n",
    "                    future_frames = augmented_frames[curr_frame_idx:last_future_frame_idx + 1]\n",
    "                    future_filtered_windows = [None] * len(future_frames)\n",
    "                    \n",
    "                    if multithreaded:\n",
    "                        def filter_future_frame(\n",
    "                            future_frame_idx\n",
    "                        ):\n",
    "                            filtered_window = cv2.filter2D(future_frames[future_frame_idx][window], -1, \n",
    "                                                           kernels[future_frame_idx], \n",
    "                                                           borderType=cv2.BORDER_CONSTANT)\n",
    "                            future_filtered_windows[future_frame_idx] = filtered_window\n",
    "                        \n",
    "                        with multithreading.ThreadPoolExecutor(max_workers=max(len(future_frames), 1)) as executor:\n",
    "                            executor.map(filter_future_frame, range(len(future_frames)))\n",
    "                        \n",
    "                    else:\n",
    "                        for idx, future_frame in enumerate(future_frames):\n",
    "                            filtered_window = cv2.filter2D(future_frame[window], -1, kernels[idx], \n",
    "                                                           borderType=cv2.BORDER_CONSTANT)\n",
    "                            future_filtered_windows[idx] = filtered_window\n",
    "                    \n",
    "                    filter_times.append(time.time() - st)\n",
    "                    \n",
    "                    filtered_sum_window = np.sum(past_filtered_windows, axis=0) + \\\n",
    "                                          np.sum(future_filtered_windows, axis=0)\n",
    "                    \n",
    "                    if avg_method == 'gaussian':\n",
    "                        filtered_sum_window = normalize_window(filtered_sum_window)\n",
    "                    \n",
    "                    filtered_sum[window] += filtered_sum_window\n",
    "                \n",
    "                filtered_frame = normalize_frame(filtered_sum)\n",
    "                    \n",
    "                return filtered_frame\n",
    "            \n",
    "            \n",
    "            def reconstruct_frame(\n",
    "                frame_index, \n",
    "                augmented_frames, \n",
    "                windows, \n",
    "                num_past_frames, \n",
    "                num_future_frames,\n",
    "                kernel_type = 'constant',\n",
    "                avg_method  = 'gaussian'\n",
    "            ):\n",
    "                kernels = Kernels.kernel_3d(kernel_size, sigma, num_kernels, sigma_time)\n",
    "                \n",
    "                filtered_sum = np.zeros((self.height, self.width, self.nb_channels + 1))\n",
    "                \n",
    "                max_num_past_frames = max(num_past_frames)\n",
    "                max_num_future_frames = max(num_future_frames)\n",
    "                \n",
    "                curr_frame_idx = min(frame_index, num_kernels - 1)\n",
    "                \n",
    "                st = time.time()\n",
    "                \n",
    "                first_past_frame_idx = max(curr_frame_idx - max_num_past_frames, 0)\n",
    "                filtered_past_frames = [None for i in range(curr_frame_idx - first_past_frame_idx)]\n",
    "                past_frames = [f for f in reversed(augmented_frames[first_past_frame_idx:curr_frame_idx])]\n",
    "                \n",
    "                if multithreaded:\n",
    "                    def filter_past_frame(\n",
    "                        past_frame_idx\n",
    "                    ):\n",
    "                        filtered = cv2.filter2D(past_frames[past_frame_idx], -1, \n",
    "                                                kernels[past_frame_idx + 1], \n",
    "                                                borderType=cv2.BORDER_CONSTANT)\n",
    "                        filtered_past_frames[past_frame_idx] = filtered\n",
    "                    \n",
    "                    with multithreading.ThreadPoolExecutor(max_workers=max(max_num_past_frames, 1)) as executor:\n",
    "                        executor.map(filter_past_frame, range(len(past_frames)))\n",
    "                                     \n",
    "                else:\n",
    "                    for idx, past_frame in enumerate(past_frames):\n",
    "                        filtered = cv2.filter2D(past_frame, -1, kernels[idx + 1], \n",
    "                                                borderType=cv2.BORDER_CONSTANT)\n",
    "                        filtered_past_frames[idx] = filtered\n",
    "                \n",
    "                last_future_frame_idx = min(curr_frame_idx + max_num_future_frames, len(augmented_frames) - 1)\n",
    "                filtered_future_frames = [None for i in range(last_future_frame_idx - curr_frame_idx + 1)]\n",
    "                future_frames = augmented_frames[curr_frame_idx:last_future_frame_idx + 1]\n",
    "                \n",
    "                if multithreaded:\n",
    "                    def filter_future_frame(\n",
    "                        future_frame_idx\n",
    "                    ):\n",
    "                        filtered = cv2.filter2D(future_frames[future_frame_idx], -1, \n",
    "                                                kernels[future_frame_idx], \n",
    "                                                borderType=cv2.BORDER_CONSTANT)\n",
    "                        filtered_future_frames[future_frame_idx] = filtered\n",
    "                    \n",
    "                    with multithreading.ThreadPoolExecutor(max_workers=max(max_num_future_frames, 1)) as executor:\n",
    "                        executor.map(filter_future_frame, range(len(future_frames)))\n",
    "                \n",
    "                else:\n",
    "                    for idx, future_frame in enumerate(future_frames):\n",
    "                        filtered = cv2.filter2D(future_frame, -1, kernels[idx], \n",
    "                                                borderType=cv2.BORDER_CONSTANT)\n",
    "                        filtered_future_frames[idx] = filtered\n",
    "                \n",
    "                filter_times.append(time.time() - st)\n",
    "                \n",
    "                for window, window_num_past_frames, window_num_future_frames in \\\n",
    "                    zip(windows, num_past_frames, num_future_frames):\n",
    "                    \n",
    "                    filtered_sum_window = np.zeros((window[0].stop - window[0].start, \n",
    "                                                    window[1].stop - window[1].start,\n",
    "                                                    self.nb_channels + 1))\n",
    "                    \n",
    "                    for past_frame in filtered_past_frames[:window_num_past_frames]:\n",
    "                        filtered_sum_window += past_frame[window]\n",
    "                    \n",
    "                    for future_frame in filtered_future_frames[:window_num_future_frames + 1]:\n",
    "                        filtered_sum_window += future_frame[window]\n",
    "                    \n",
    "                    if avg_method == 'gaussian':\n",
    "                        filtered_sum_window = normalize_window(filtered_sum_window)\n",
    "                    \n",
    "                    filtered_sum[window] += filtered_sum_window\n",
    "                \n",
    "                filtered_frame = normalize_frame(filtered_sum)\n",
    "                    \n",
    "                return filtered_frame\n",
    "            \n",
    "            \n",
    "            start_time = time.time()\n",
    "            \n",
    "            windows = [(y, x) for x in intervals(self.width) for y in intervals(self.height)]\n",
    "            augmented_frames = []\n",
    "            frames_color_distributions = []\n",
    "            \n",
    "            for frame_index in  range(self.num_frames):\n",
    "                \n",
    "                if frame_index == 0:\n",
    "                    for idx in range(num_kernels):\n",
    "                        augmented_frame, frame_color_distributions = preprocess_frame(idx, windows)\n",
    "                        \n",
    "                        augmented_frames.append(augmented_frame)\n",
    "                        frames_color_distributions.append(frame_color_distributions)\n",
    "                \n",
    "                elif frame_index < num_kernels:\n",
    "                    augmented_frame, frame_color_distributions = \\\n",
    "                        preprocess_frame((num_kernels - 1) + frame_index, windows)\n",
    "                    \n",
    "                    augmented_frames.append(augmented_frame)\n",
    "                    frames_color_distributions.append(frame_color_distributions)\n",
    "                    \n",
    "                elif frame_index <= self.num_frames - num_kernels:\n",
    "                    augmented_frame, frame_color_distributions = \\\n",
    "                        preprocess_frame((num_kernels - 1) + frame_index, windows)\n",
    "                    \n",
    "                    augmented_frames.append(augmented_frame)\n",
    "                    frames_color_distributions.append(frame_color_distributions)\n",
    "                    \n",
    "                    augmented_frames           = augmented_frames[1:]\n",
    "                    frames_color_distributions = frames_color_distributions[1:]\n",
    "                    \n",
    "                else:\n",
    "                    augmented_frames           = augmented_frames[1:]\n",
    "                    frames_color_distributions = frames_color_distributions[1:]\n",
    "                \n",
    "                past_div_max, future_div_max = \\\n",
    "                    compute_max_divergence(frame_index, frames_color_distributions)\n",
    "                \n",
    "                num_past_frames, num_future_frames = \\\n",
    "                    div_to_num_frames(past_div_max, future_div_max)\n",
    "                \n",
    "                if filter_type == 'window':\n",
    "                    reconstructed_frame = reconstruct_frame_by_window(\n",
    "                                            frame_index, \n",
    "                                            augmented_frames, \n",
    "                                            windows, \n",
    "                                            num_past_frames, \n",
    "                                            num_future_frames,\n",
    "                                            kernel_type=kernel_type,\n",
    "                                            avg_method=avg_method\n",
    "                                          )\n",
    "                else:\n",
    "                    reconstructed_frame = reconstruct_frame(\n",
    "                                            frame_index, \n",
    "                                            augmented_frames, \n",
    "                                            windows, \n",
    "                                            num_past_frames, \n",
    "                                            num_future_frames,\n",
    "                                            avg_method=avg_method\n",
    "                                          )\n",
    "                \n",
    "                if color_channels == 'ycrcb':\n",
    "                    reconstructed_frame = cv2.cvtColor(reconstructed_frame, cv2.COLOR_YCrCb2BGR)\n",
    "                \n",
    "                reconstructed_frame[tuple(self.indices[frame_index])] = self.video[frame_index]\n",
    "                \n",
    "                output.write(reconstructed_frame)\n",
    "                \n",
    "                display_progress(frame_index, start_time, filter_times)\n",
    "            display_progress(self.num_frames, start_time, filter_times, complete=True)\n",
    "                \n",
    "            \n",
    "            \n",
    "            \n",
    "            #############################################\n",
    "        \n",
    "        \n",
    "        output = cv2.VideoWriter(\n",
    "                    output_dst, \n",
    "                    cv2.VideoWriter_fourcc('M','J','P','G'), \n",
    "                    self.framerate, \n",
    "                    (self.width, self.height)\n",
    "                 )\n",
    "        \n",
    "        if algorithm == 'efan2d':\n",
    "            efan2d(output)\n",
    "        elif algorithm == 'efan3d':\n",
    "            efan3d(output)\n",
    "        elif algorithm == 'adefan':\n",
    "            adefan(output)\n",
    "        \n",
    "        output.release()\n",
    "    \n",
    "    \n",
    "    def color_distributions(\n",
    "        self, \n",
    "        window_width, \n",
    "        max_num_frames = 100, \n",
    "        alpha          = 0.95, \n",
    "        color_channels = 'bgr',\n",
    "        concatenate    = False,\n",
    "        seed           = 28374\n",
    "    ):\n",
    "        np.random.seed(seed)\n",
    "        window_overlap = self.defaults['window_overlap']\n",
    "        \n",
    "        uniform = np.ones(np.iinfo(np.uint8).max + 1) / (np.iinfo(np.uint8).max + 1)\n",
    "\n",
    "        def prepare_frame(\n",
    "            frame_index\n",
    "        ):\n",
    "            frame = self.video[frame_index]\n",
    "            indices = self.indices[frame_index]\n",
    "\n",
    "            black_frame = np.zeros((self.height, self.width, self.nb_channels))\n",
    "                \n",
    "            if color_channels == 'ycrcb':\n",
    "                frame = cv2.cvtColor(np.expand_dims(frame, axis=0), cv2.COLOR_BGR2YCrCb)[0]\n",
    "            \n",
    "            black_frame[tuple(indices)] = frame\n",
    "\n",
    "            new_channel = np.zeros((self.height, self.width, 1)) + 1e-10 # To avoid division by zero\n",
    "            new_channel[tuple(indices)] = 1.0\n",
    "\n",
    "            augmented_frame = np.append(black_frame, new_channel, axis=2)\n",
    "            \n",
    "            return augmented_frame\n",
    "        \n",
    "        \n",
    "        def intervals(\n",
    "            length\n",
    "        ):\n",
    "            return [slice(x, min(x + window_width, length)) for x in \n",
    "                    range(0, max(1, length - int(window_width * window_overlap)), \n",
    "                          int(window_width * (1 - window_overlap)))]\n",
    "\n",
    "\n",
    "        def window_color_distributions(\n",
    "            window\n",
    "        ):\n",
    "            if color_channels == 'ycrbr':\n",
    "                nb_relevant_channels = 1\n",
    "            else:\n",
    "                nb_relevant_channels = self.nb_channels\n",
    "                \n",
    "            dist = np.array([alpha * np.histogram(window[:,channel], \n",
    "                                                  bins=range(np.iinfo(np.uint8).max + 2), \n",
    "                                                  density=True)[0] +\n",
    "                             (1 - alpha) * uniform\n",
    "                             for channel in range(nb_relevant_channels)])\n",
    "            \n",
    "            if concatenate:\n",
    "                return dist.flatten()\n",
    "            else:\n",
    "                return dist\n",
    "\n",
    "        \n",
    "        def preprocess_frame(\n",
    "            frame_index, \n",
    "            windows\n",
    "        ):\n",
    "            augmented_frame = prepare_frame(frame_index)\n",
    "            \n",
    "            window = windows[np.random.randint(0, len(windows))]\n",
    "\n",
    "            frame_color_distributions = [\n",
    "                window_color_distributions(\n",
    "                    augmented_frame[window][augmented_frame[window][:,:,-1] == 1][:,:-1]\n",
    "                )\n",
    "            ]\n",
    "\n",
    "            return augmented_frame, frame_color_distributions\n",
    "        \n",
    "        \n",
    "        windows = [(y, x) for x in intervals(self.width) for y in intervals(self.height)]\n",
    "        frames_color_distributions = []\n",
    "        \n",
    "        for frame_index in range(min(max_num_frames, self.num_frames)):\n",
    "            \n",
    "            _, frame_color_distributions = preprocess_frame(frame_index, windows)\n",
    "            frames_color_distributions.append(frame_color_distributions)\n",
    "        \n",
    "        return np.array(frames_color_distributions)\n",
    "    "
   ]
  },
  {
   "cell_type": "markdown",
   "metadata": {},
   "source": [
    "# Optimization Benchmark"
   ]
  },
  {
   "cell_type": "code",
   "execution_count": 29,
   "metadata": {},
   "outputs": [
    {
     "name": "stdout",
     "output_type": "stream",
     "text": [
      "Naive python operations / array indexing: 29.6 hours\n",
      "Numpy (C) operations / array indexing: 9.6 minutes\n",
      "Numpy speedup: 185.0 times faster\n"
     ]
    }
   ],
   "source": [
    "##################################\n",
    "##### Optimization Benchmark #####\n",
    "##################################\n",
    "\n",
    "height = 720\n",
    "width = 1280\n",
    "num_channels = 3\n",
    "length = 38 #seconds\n",
    "framerate = 24\n",
    "num_frames = length * framerate\n",
    "anchor_x = 400\n",
    "anchor_y = 400\n",
    "num_rand_pixels = (height * width) // 100\n",
    "\n",
    "kernel_size = 71\n",
    "kernel = Kernels.kernel_2d(kernel_size, 20)\n",
    "r = (kernel_size - 1) // 2\n",
    "\n",
    "###########################\n",
    "##### Naive Operation #####\n",
    "###########################\n",
    "\n",
    "st = time.time()\n",
    "\n",
    "kernel_dict = {}\n",
    "for i in range(256):\n",
    "    kernel_dict[i] = kernel * i\n",
    "\n",
    "filtered = np.zeros((height, width, num_channels + 1));\n",
    "\n",
    "for idx in range(num_rand_pixels // 100):\n",
    "    k = kernel_dict[np.random.randint(0,256)]\n",
    "    for c in range(num_channels + 1):\n",
    "        for y in range(kernel_size):\n",
    "            for x in range(kernel_size):\n",
    "                filtered[anchor_x-r+y,anchor_y-r+x,c] += k[x,y]\n",
    "tot_time_naive = (time.time() - st) * num_frames * 100\n",
    "print('Naive python operations / array indexing:', np.around(tot_time_naive / 3600, 1), 'hours')\n",
    "\n",
    "###########################\n",
    "##### Numpy Optimized #####\n",
    "###########################\n",
    "\n",
    "st = time.time()\n",
    "\n",
    "filtered = filtered = np.zeros((height, width, num_channels + 1));\n",
    "\n",
    "kernel_dict = {}\n",
    "for i in range(256):\n",
    "    kernel_dict[i] = kernel * i\n",
    "\n",
    "for i in range(num_rand_pixels):\n",
    "    for c in range(num_channels + 1):\n",
    "        filtered[anchor_y-r:anchor_y+r+1, anchor_x-r:anchor_x+r+1, c] += kernel_dict[np.random.randint(0,256)]\n",
    "\n",
    "tot_time_numpy = (time.time() - st) * num_frames\n",
    "print('Numpy (C) operations / array indexing:', np.around(tot_time_numpy / 60, 1), 'minutes')\n",
    "print('Numpy speedup:', np.around(tot_time_naive / tot_time_numpy, 1), 'times faster')"
   ]
  },
  {
   "cell_type": "markdown",
   "metadata": {
    "scrolled": true
   },
   "source": [
    "The equivalent of the MATLAB / C++ implementation would take over 29 hours to reconstruct the video using python operations and almost 10 minutes using numpy operations. Since numpy is already written in C there isn't much more to do to speed up the additions / multiplications / array indexing. Even using numpy this is still more than 4 times slower than using opencv to interpolate the value of each pixel (Probably because of the time gained by using filter2D which uses the FFT algorithm)."
   ]
  },
  {
   "cell_type": "markdown",
   "metadata": {},
   "source": [
    "# MATLAB / Python Comparison"
   ]
  },
  {
   "cell_type": "code",
   "execution_count": 22,
   "metadata": {},
   "outputs": [
    {
     "name": "stdout",
     "output_type": "stream",
     "text": [
      "Total time elapsed 0.05006265640258789 seconds\n"
     ]
    }
   ],
   "source": [
    "######################################\n",
    "##### MATLAB / Python comparison #####\n",
    "######################################\n",
    "\n",
    "import scipy.io as sio\n",
    "\n",
    "frame = cv2.imread('Resources/ImageComparison/lena.png')\n",
    "width = frame.shape[1]\n",
    "height = frame.shape[0]\n",
    "nb_channels = frame.shape[2]\n",
    "\n",
    "randvec = sio.loadmat('Resources/ImageComparison/randvec.mat')['randind'][0] - 1 # MATLAB indexing starts at 1\n",
    "\n",
    "st = time.time() # Start counting time\n",
    "\n",
    "indices = [(index % height, index // height) for index in randvec] # MATLAB is column major so we convert to row major\n",
    "indices = tuple(zip(*indices))\n",
    "\n",
    "black_frame = np.zeros((height, width, nb_channels))\n",
    "black_frame[indices] = frame[indices]\n",
    "\n",
    "new_channel = np.zeros((height, width, 1)) + 1e-10 # To avoid division by zero\n",
    "new_channel[indices] = 1.0\n",
    "\n",
    "augmented_frame = np.append(black_frame, new_channel, axis=2)\n",
    "\n",
    "sigma = np.sqrt((height * width) / (len(indices[0]) * np.pi))\n",
    "kernel_size = 2 * (int(0.5 + 3 * sigma) + 2) + 1\n",
    "\n",
    "kernel = Kernels.kernel_2d(kernel_size, sigma)\n",
    "\n",
    "filtered = cv2.filter2D(augmented_frame, -1, kernel, borderType=cv2.BORDER_CONSTANT)\n",
    "for i in range(nb_channels):\n",
    "    filtered[:,:,i] /= filtered[:,:,-1]\n",
    "reconstructed_frame = (filtered[:,:,:-1] + 0.5).astype(np.uint8)\n",
    "\n",
    "print('Total time elapsed', time.time() - st, 'seconds')\n",
    "\n",
    "cv2.imwrite('Resources/ImageComparison/lena_python.png', reconstructed_frame);"
   ]
  },
  {
   "cell_type": "markdown",
   "metadata": {},
   "source": [
    "Our method takes the same amount of time as the MATLAB / C++ implementation to reconstruct the image"
   ]
  },
  {
   "cell_type": "code",
   "execution_count": 23,
   "metadata": {},
   "outputs": [
    {
     "name": "stdout",
     "output_type": "stream",
     "text": [
      "Number of different channel values: 2\n"
     ]
    }
   ],
   "source": [
    "lena_matlab = cv2.imread('Resources/ImageComparison/lena_matlab.png')\n",
    "lena_python = cv2.imread('Resources/ImageComparison/lena_python.png')\n",
    "\n",
    "print('Number of different channel values:', np.count_nonzero(lena_matlab - lena_python))"
   ]
  },
  {
   "cell_type": "markdown",
   "metadata": {},
   "source": [
    "Only 6 channel values differ between the two images so the methods are equivalent (those values are probably because of different rounding / precision between python and C++)"
   ]
  },
  {
   "cell_type": "code",
   "execution_count": 148,
   "metadata": {},
   "outputs": [
    {
     "name": "stdout",
     "output_type": "stream",
     "text": [
      "MATLAB MSE: 461.09148534138996 \n",
      "Python MSE: 461.0914599100749\n",
      "MATLAB PSNR: 21.49293258391275 \n",
      "Python PSNR: 21.492932823446132\n"
     ]
    }
   ],
   "source": [
    "lena_original = cv2.imread('Resources/ImageComparison/lena.png')\n",
    "lena_matlab = cv2.imread('Resources/ImageComparison/lena_matlab.png')\n",
    "lena_python = cv2.imread('Resources/ImageComparison/lena_python.png')\n",
    "\n",
    "width, height, nb_channels = lena_original.shape\n",
    "max_pixel_value = np.iinfo(np.uint8).max\n",
    "\n",
    "matlab_mse = np.sum(np.square(lena_original.astype(int) - lena_matlab.astype(int))) / (width * height * nb_channels)\n",
    "python_mse = np.sum(np.square(lena_original.astype(int) - lena_python.astype(int))) / (width * height * nb_channels)\n",
    "matlab_psnr = 10 * np.log10((max_pixel_value ** 2) / matlab_mse)\n",
    "python_psnr = 10 * np.log10((max_pixel_value ** 2) / python_mse)\n",
    "\n",
    "print('MATLAB MSE:', matlab_mse, '\\nPython MSE:', python_mse)\n",
    "print('MATLAB PSNR:', matlab_psnr, '\\nPython PSNR:', python_psnr)"
   ]
  },
  {
   "cell_type": "markdown",
   "metadata": {},
   "source": [
    "# KL-Divergence Benchmarks"
   ]
  },
  {
   "cell_type": "code",
   "execution_count": 194,
   "metadata": {},
   "outputs": [],
   "source": [
    "def evaluate_kl_divergence(\n",
    "    raw_path     = '../Resources/Videos/', \n",
    "    comp_path    = '../Results/CompressedVideos/1percent/',\n",
    "    alpha        = 0.95, \n",
    "    window_width = 640, \n",
    "    concatenate  = False\n",
    "):\n",
    "    points_raw  = []\n",
    "    points_comp = []\n",
    "    \n",
    "    num_vids = len(os.listdir(raw_path))\n",
    "    num_done = 0\n",
    "    print('Progress: 0%', end='\\r')\n",
    "    \n",
    "    for raw, comp in zip(os.listdir(raw_path), os.listdir(comp_path)):\n",
    "        comp_vid = CompressedVideo(comp_path + comp)\n",
    "        dist_comp = comp_vid.color_distributions(window_width, alpha=alpha, concatenate=concatenate)\n",
    "        dist_raw  = Video.color_distributions(raw_path + raw, window_width, alpha=alpha, concatenate=concatenate)\n",
    "        \n",
    "        for i in range(50):\n",
    "            for j in range(1, 51):\n",
    "                for k in range(dist_raw.shape[1]):\n",
    "                    if concatenate:\n",
    "                        kl_raw  = entropy(dist_raw[i, k],  dist_raw[i+j, k])\n",
    "                        kl_comp = entropy(dist_comp[i, k], dist_comp[i+j, k])\n",
    "                    else:\n",
    "                        kl_raw  = np.mean([entropy(dist_raw[i, k, x],  dist_raw[i+j, k, x])  for x in range(3)])\n",
    "                        kl_comp = np.mean([entropy(dist_comp[i, k, x], dist_comp[i+j, k, x]) for x in range(3)])\n",
    "                    points_raw.append(kl_raw)\n",
    "                    points_comp.append(kl_comp)\n",
    "        \n",
    "        num_done += 1\n",
    "        print('Progress: ' + str(int(100 * num_done / num_vids)) + '%', end='\\r')\n",
    "        \n",
    "    print('')\n",
    "    return np.array(points_raw), np.array(points_comp)\n",
    "\n",
    "\n",
    "def mse(\n",
    "    points_raw, \n",
    "    points_comp\n",
    "):\n",
    "    return np.mean(np.square(points_raw - points_comp))"
   ]
  },
  {
   "cell_type": "code",
   "execution_count": null,
   "metadata": {
    "scrolled": true
   },
   "outputs": [],
   "source": [
    "dict_points_raw  = {}\n",
    "dict_points_comp = {}\n",
    "\n",
    "folders = ['1percent', '2percent', '3percent', '4percent', '5percent', '6percent', '7percent', '8percent']\n",
    "\n",
    "for folder in folders:\n",
    "    list_points_raw  = []\n",
    "    list_points_comp = []\n",
    "    window_widths    = [640, 320, 160, 80, 40]\n",
    "    for window_width in window_widths:\n",
    "        points_raw, points_comp = evaluate_kl_divergence(window_width=window_width, \n",
    "                                                         comp_path='../Results/CompressedVideos/' + folder + '/')\n",
    "        list_points_raw.append(points_raw)\n",
    "        list_points_comp.append(points_comp)\n",
    "    dict_points_raw[folder] = list_points_raw\n",
    "    dict_points_comp[folder] = list_points_comp\n",
    "    \n",
    "    print(folder, 'done')"
   ]
  },
  {
   "cell_type": "code",
   "execution_count": 60,
   "metadata": {
    "scrolled": true
   },
   "outputs": [
    {
     "name": "stdout",
     "output_type": "stream",
     "text": [
      "1percent:\n",
      "0.00702099301011405\n",
      "0.08190793283728187\n",
      "0.6249389946827462\n",
      "2.504767135731861\n",
      "5.212795442164037\n",
      "\n",
      "2percent:\n",
      "0.0016382174319611283\n",
      "0.019418243448772746\n",
      "0.18792586862778468\n",
      "1.0643365863228245\n",
      "2.859376133360048\n",
      "\n",
      "3percent:\n",
      "0.0007144800786589978\n",
      "0.008566686474857147\n",
      "0.0865757375660889\n",
      "0.6036958560728038\n",
      "1.8918213815824894\n",
      "\n",
      "4percent:\n",
      "0.0003918297264157809\n",
      "0.004735917171418936\n",
      "0.04951742198299925\n",
      "0.3772355659814542\n",
      "1.3574060469818336\n",
      "\n",
      "5percent:\n",
      "0.00024954809646758136\n",
      "0.0030099669207309873\n",
      "0.03152652701696496\n",
      "0.25827514628848114\n",
      "1.03680185597\n",
      "\n",
      "6percent:\n",
      "0.0001720764899645936\n",
      "0.0021206415841808117\n",
      "0.022300448081913622\n",
      "0.19018464036160918\n",
      "0.8193969471547909\n",
      "\n",
      "7percent:\n",
      "0.00012635532767852123\n",
      "0.0015265297943958514\n",
      "0.016438294581816393\n",
      "0.14228007971562767\n",
      "0.6595324642234429\n",
      "\n",
      "8percent:\n",
      "9.636889392000316e-05\n",
      "0.0011661776514260082\n",
      "0.012383482458758168\n",
      "0.11307750228871215\n",
      "0.5492715657453825\n",
      "\n"
     ]
    }
   ],
   "source": [
    "folders = ['1percent', '2percent', '3percent', '4percent', '5percent', '6percent', '7percent', '8percent']\n",
    "\n",
    "for folder in folders:\n",
    "    print(folder + ':')\n",
    "    \n",
    "    for r, c in zip(dict_points_raw[folder], dict_points_comp[folder]):\n",
    "        print(mse(r, c))\n",
    "    \n",
    "    print('')"
   ]
  },
  {
   "cell_type": "code",
   "execution_count": 150,
   "metadata": {},
   "outputs": [],
   "source": [
    "window_widths    = [640, 320, 160, 80, 40]\n",
    "\n",
    "def display_kl_accuracy(\n",
    "    list_points_raw, \n",
    "    list_points_comp\n",
    "):\n",
    "    num_plots = len(list_points_raw)\n",
    "    plt.figure(figsize=(15, 15))\n",
    "    for i, (r, c) in enumerate(zip(list_points_raw, list_points_comp)):\n",
    "        lim = max(max(r), max(c))\n",
    "        plt.subplot(1, num_plots, i+1, aspect='equal')\n",
    "        plt.xlim(0, lim);\n",
    "        plt.ylim(0, lim);\n",
    "        plt.title('window width: ' + str(window_widths[i]) + '\\n' + 'MSE: ' + str(np.round(mse(r, c), 5)))\n",
    "        plt.scatter(r, c, s=2)"
   ]
  },
  {
   "cell_type": "code",
   "execution_count": 151,
   "metadata": {
    "scrolled": false
   },
   "outputs": [
    {
     "data": {
      "image/png": "[encoded data removed]",
      "text/plain": [
       "<Figure size 1080x1080 with 5 Axes>"
      ]
     },
     "metadata": {
      "needs_background": "light"
     },
     "output_type": "display_data"
    },
    {
     "data": {
      "image/png": "[encoded data removed]",
      "text/plain": [
       "<Figure size 1080x1080 with 5 Axes>"
      ]
     },
     "metadata": {
      "needs_background": "light"
     },
     "output_type": "display_data"
    },
    {
     "data": {
      "image/png": "[encoded data removed]",
      "text/plain": [
       "<Figure size 1080x1080 with 5 Axes>"
      ]
     },
     "metadata": {
      "needs_background": "light"
     },
     "output_type": "display_data"
    },
    {
     "data": {
      "image/png": "[encoded data removed]",
      "text/plain": [
       "<Figure size 1080x1080 with 5 Axes>"
      ]
     },
     "metadata": {
      "needs_background": "light"
     },
     "output_type": "display_data"
    },
    {
     "data": {
      "image/png": "[encoded data removed]",
      "text/plain": [
       "<Figure size 1080x1080 with 5 Axes>"
      ]
     },
     "metadata": {
      "needs_background": "light"
     },
     "output_type": "display_data"
    },
    {
     "data": {
      "image/png": "[encoded data removed]",
      "text/plain": [
       "<Figure size 1080x1080 with 5 Axes>"
      ]
     },
     "metadata": {
      "needs_background": "light"
     },
     "output_type": "display_data"
    },
    {
     "data": {
      "image/png": "[encoded data removed]",
      "text/plain": [
       "<Figure size 1080x1080 with 5 Axes>"
      ]
     },
     "metadata": {
      "needs_background": "light"
     },
     "output_type": "display_data"
    },
    {
     "data": {
      "image/png": "[encoded data removed]",
      "text/plain": [
       "<Figure size 1080x1080 with 5 Axes>"
      ]
     },
     "metadata": {
      "needs_background": "light"
     },
     "output_type": "display_data"
    }
   ],
   "source": [
    "folders = ['1percent', '2percent', '3percent', '4percent', '5percent', '6percent', '7percent', '8percent']\n",
    "\n",
    "for folder in folders:\n",
    "    display_kl_accuracy(dict_points_raw[folder], dict_points_comp[folder])"
   ]
  },
  {
   "cell_type": "code",
   "execution_count": null,
   "metadata": {},
   "outputs": [],
   "source": [
    "def find_optimal_window(\n",
    "    raw_path     = '../Resources/Videos/', \n",
    "    comp_path    = '../Results/CompressedVideos/1percent/',\n",
    "    alpha        = 0.95, \n",
    "    lower_bound  = 0, \n",
    "    upper_bound  = 640, \n",
    "    target       = (0.15, 0.2)\n",
    "):\n",
    "    target_met = False\n",
    "    \n",
    "    while not target_met:\n",
    "        width = (lower_bound + upper_bound) // 2\n",
    "        print('Computing for window width: ' + str(width))\n",
    "        \n",
    "        points_raw, points_comp = evaluate_kl_divergence(\n",
    "            window_width=width, \n",
    "            raw_path=raw_path, \n",
    "            comp_path=comp_path, \n",
    "            alpha=alpha\n",
    "        )\n",
    "        \n",
    "        score = mse(points_raw, points_comp)\n",
    "        print('MSE: ' + str(np.round(score, 4)))\n",
    "        \n",
    "        if score < target[0]:\n",
    "            upper_bound = width\n",
    "        elif score > target[1]:\n",
    "            lower_bound = width\n",
    "        else:\n",
    "            target_met = True\n",
    "        \n",
    "    return width"
   ]
  },
  {
   "cell_type": "code",
   "execution_count": null,
   "metadata": {
    "scrolled": true
   },
   "outputs": [],
   "source": [
    "folders = ['1percent', '2percent', '3percent', '4percent', '5percent', '6percent', '7percent', '8percent']\n",
    "\n",
    "optimal_windows = {}\n",
    "\n",
    "for folder in folders:\n",
    "    print('Computing for ' + folder)\n",
    "    optimal_windows[folder] = find_optimal_window(\n",
    "        comp_path='../Results/CompressedVideos/' + folder + '/', \n",
    "    )"
   ]
  },
  {
   "cell_type": "code",
   "execution_count": 154,
   "metadata": {},
   "outputs": [
    {
     "data": {
      "text/plain": [
       "{'1percent': 240,\n",
       " '2percent': 160,\n",
       " '3percent': 140,\n",
       " '4percent': 110,\n",
       " '5percent': 100,\n",
       " '6percent': 80,\n",
       " '7percent': 75,\n",
       " '8percent': 70}"
      ]
     },
     "execution_count": 154,
     "metadata": {},
     "output_type": "execute_result"
    }
   ],
   "source": [
    "optimal_windows"
   ]
  },
  {
   "cell_type": "code",
   "execution_count": 189,
   "metadata": {},
   "outputs": [
    {
     "data": {
      "image/png": "[encoded data removed]",
      "text/plain": [
       "<Figure size 720x360 with 1 Axes>"
      ]
     },
     "metadata": {
      "needs_background": "light"
     },
     "output_type": "display_data"
    }
   ],
   "source": [
    "x = list(range(1, len(folders) + 1))\n",
    "y = list(optimal_windows.values())\n",
    "\n",
    "plt.figure(figsize=(10, 5))\n",
    "plt.plot(x, y)\n",
    "plt.ylim(0, max(y) + 10)\n",
    "plt.xlabel('sampling percentage', fontsize=13)\n",
    "plt.ylabel('window width', fontsize=13);"
   ]
  },
  {
   "cell_type": "markdown",
   "metadata": {},
   "source": [
    "## Comparing with concatenating channels distributions"
   ]
  },
  {
   "cell_type": "markdown",
   "metadata": {},
   "source": [
    "### Accuracy"
   ]
  },
  {
   "cell_type": "code",
   "execution_count": null,
   "metadata": {},
   "outputs": [],
   "source": [
    "folder = '1percent'\n",
    "list_points_concat_raw  = []\n",
    "list_points_concat_comp = []\n",
    "window_widths    = [640, 320, 160, 80, 40]\n",
    "for window_width in window_widths:\n",
    "    points_raw, points_comp = evaluate_kl_divergence(window_width=window_width, \n",
    "                                                     comp_path='../Results/CompressedVideos/' + folder + '/', \n",
    "                                                     concatenate=True)\n",
    "    list_points_concat_raw.append(points_raw)\n",
    "    list_points_concat_comp.append(points_comp)"
   ]
  },
  {
   "cell_type": "code",
   "execution_count": 206,
   "metadata": {},
   "outputs": [
    {
     "name": "stdout",
     "output_type": "stream",
     "text": [
      "Mean absolute difference between the two methods for ground truth: 2.877904654783927e-16\n",
      "Mean absolute difference between the two methods for sampled videos: 4.676671101852562e-16\n"
     ]
    }
   ],
   "source": [
    "print('Mean absolute difference between the two methods for ground truth:', \n",
    "      np.mean(np.abs(np.array(list_points_concat_raw) - np.array(dict_points_raw['1percent']))))\n",
    "print('Mean absolute difference between the two methods for sampled videos:', \n",
    "      np.mean(np.abs(np.array(list_points_concat_comp) - np.array(dict_points_comp['1percent']))))"
   ]
  },
  {
   "cell_type": "code",
   "execution_count": 196,
   "metadata": {},
   "outputs": [
    {
     "data": {
      "image/png": "[encoded data removed]",
      "text/plain": [
       "<Figure size 1080x1080 with 5 Axes>"
      ]
     },
     "metadata": {
      "needs_background": "light"
     },
     "output_type": "display_data"
    },
    {
     "data": {
      "image/png": "[encoded data removed]",
      "text/plain": [
       "<Figure size 1080x1080 with 5 Axes>"
      ]
     },
     "metadata": {
      "needs_background": "light"
     },
     "output_type": "display_data"
    }
   ],
   "source": [
    "display_kl_accuracy(dict_points_raw['1percent'], dict_points_comp['1percent'])\n",
    "display_kl_accuracy(list_points_concat_raw, list_points_concat_comp)"
   ]
  },
  {
   "cell_type": "markdown",
   "metadata": {},
   "source": [
    "### Performance"
   ]
  },
  {
   "cell_type": "code",
   "execution_count": 55,
   "metadata": {},
   "outputs": [
    {
     "name": "stdout",
     "output_type": "stream",
     "text": [
      "Time spent computing KL-divergence on the 3 channels: 63.69 seconds.\n",
      "Time spent computing KL-divergence on the concatenated channels: 29.38 seconds\n",
      "Concatenating the 3 channels before computing the KL-divergence is 2.17 times faster.\n"
     ]
    }
   ],
   "source": [
    "mean_time = []\n",
    "flat_time = []\n",
    "\n",
    "for i in range(1000000):\n",
    "    mean_a, mean_b = np.random.rand(3, 256), np.random.rand(3, 256)\n",
    "    flat_a, flat_b = mean_a.flatten(), mean_b.flatten()\n",
    "    \n",
    "    st = time.time()\n",
    "    np.mean([entropy(mean_a[i], mean_b[i]) for i in range(3)])\n",
    "    mean_time.append(time.time() - st)\n",
    "    \n",
    "    st = time.time()\n",
    "    entropy(flat_a, flat_b)\n",
    "    flat_time.append(time.time() - st)\n",
    "\n",
    "tot_mean_time = np.sum(mean_time)\n",
    "tot_flat_time = np.sum(flat_time)\n",
    "speedup = np.round(tot_mean_time / tot_flat_time, 2)\n",
    "\n",
    "print('Time spent computing KL-divergence on the 3 channels:', np.round(tot_mean_time, 2), 'seconds.')\n",
    "print('Time spent computing KL-divergence on the concatenated channels:', np.round(tot_flat_time, 2), 'seconds')\n",
    "print('Concatenating the 3 channels before computing the KL-divergence is', speedup, 'times faster.')"
   ]
  },
  {
   "cell_type": "markdown",
   "metadata": {},
   "source": [
    "# JPG Comparison"
   ]
  },
  {
   "cell_type": "code",
   "execution_count": 11,
   "metadata": {},
   "outputs": [],
   "source": [
    "def jpg_psnr(\n",
    "    quality = 1\n",
    "):\n",
    "    raw_folder = '../Resources/Videos/'\n",
    "    comp_folder = '../Results/CompressedVideos/jpg/'\n",
    "    for video in os.listdir(raw_folder):\n",
    "        Video.jpg_reconstruct(\n",
    "            raw_folder + video,\n",
    "            output_dst=comp_folder + video.split('.')[0] + '.mov', \n",
    "            quality=quality\n",
    "        )\n",
    "\n",
    "    psnr_scores = []\n",
    "    for raw, comp in zip(os.listdir(raw_folder), os.listdir(comp_folder)):\n",
    "        psnr_scores.append(Video.psnr(raw_folder + raw, comp_folder + comp))\n",
    "    \n",
    "    return psnr_scores"
   ]
  },
  {
   "cell_type": "code",
   "execution_count": null,
   "metadata": {
    "scrolled": true
   },
   "outputs": [],
   "source": [
    "jpg_psnr_scores = jpg_psnr(quality=3)"
   ]
  },
  {
   "cell_type": "code",
   "execution_count": 13,
   "metadata": {},
   "outputs": [
    {
     "name": "stdout",
     "output_type": "stream",
     "text": [
      "23.731545769610754\n"
     ]
    }
   ],
   "source": [
    "print(np.mean(jpg_psnr_scores))"
   ]
  },
  {
   "cell_type": "markdown",
   "metadata": {},
   "source": [
    "# EFAN2D"
   ]
  },
  {
   "cell_type": "code",
   "execution_count": null,
   "metadata": {
    "scrolled": true
   },
   "outputs": [],
   "source": [
    "folder = '../Results/CompressedVideos/'\n",
    "for filename in os.listdir(folder):\n",
    "    video = CompressedVideo(folder + filename)\n",
    "    video.reconstruct(\n",
    "        algorithm='efan2d', \n",
    "        output_dst='../Results/ReconstructedVideos/EFAN2D/' + filename.split('.')[0] + '.mov', \n",
    "        verbose=True\n",
    "    )"
   ]
  },
  {
   "cell_type": "code",
   "execution_count": null,
   "metadata": {
    "scrolled": true
   },
   "outputs": [],
   "source": [
    "original_folder = '../Resources/Videos/'\n",
    "reconstructed_folder = '../Results/ReconstructedVideos/EFAN2D/'\n",
    "\n",
    "efan2d_psnr_scores = []\n",
    "\n",
    "for original in os.listdir(original_folder):\n",
    "    psnr = Video.psnr(\n",
    "        original_folder + original, \n",
    "        reconstructed_folder + original.split('.')[0] + '.mov'\n",
    "    )\n",
    "    \n",
    "    efan2d_psnr_scores.append(psnr)"
   ]
  },
  {
   "cell_type": "code",
   "execution_count": 33,
   "metadata": {},
   "outputs": [
    {
     "name": "stdout",
     "output_type": "stream",
     "text": [
      "Mean PSNR for EFAN2D: 21.522601872843556\n"
     ]
    }
   ],
   "source": [
    "print('Mean PSNR for EFAN2D:', np.mean(efan2d_psnr_scores))"
   ]
  },
  {
   "cell_type": "markdown",
   "metadata": {},
   "source": [
    "# EFAN3D"
   ]
  },
  {
   "cell_type": "code",
   "execution_count": null,
   "metadata": {
    "scrolled": true
   },
   "outputs": [],
   "source": [
    "folder = '../Results/CompressedVideos/'\n",
    "for filename in os.listdir(folder):\n",
    "    video = CompressedVideo(folder + filename)\n",
    "    video.reconstruct(\n",
    "        algorithm='efan3d', \n",
    "        output_dst='../Results/ReconstructedVideos/EFAN3D/' + filename.split('.')[0] + '.mov', \n",
    "        verbose=True, \n",
    "        num_time_frames=99\n",
    "    )"
   ]
  },
  {
   "cell_type": "code",
   "execution_count": null,
   "metadata": {
    "scrolled": true
   },
   "outputs": [],
   "source": [
    "original_folder = '../Resources/Videos/'\n",
    "reconstructed_folder = '../Results/ReconstructedVideos/EFAN3D/'\n",
    "\n",
    "efan3d_psnr_scores = []\n",
    "\n",
    "for original in os.listdir(original_folder):\n",
    "    psnr = Video.psnr(\n",
    "        original_folder + original, \n",
    "        reconstructed_folder + original.split('.')[0] + '.mov'\n",
    "    )\n",
    "    \n",
    "    efan3d_psnr_scores.append(psnr)"
   ]
  },
  {
   "cell_type": "code",
   "execution_count": 59,
   "metadata": {},
   "outputs": [
    {
     "name": "stdout",
     "output_type": "stream",
     "text": [
      "Mean PSNR for EFAN3D: 24.4117432246204\n"
     ]
    }
   ],
   "source": [
    "print('Mean PSNR for EFAN3D:', np.mean(efan3d_psnr_scores))"
   ]
  },
  {
   "cell_type": "markdown",
   "metadata": {},
   "source": [
    "# ADEFAN"
   ]
  },
  {
   "cell_type": "markdown",
   "metadata": {},
   "source": [
    "### Vanilla"
   ]
  },
  {
   "cell_type": "code",
   "execution_count": null,
   "metadata": {
    "scrolled": true
   },
   "outputs": [],
   "source": [
    "folder = '../Results/CompressedVideos/'\n",
    "for filename in os.listdir(folder):\n",
    "    video = CompressedVideo(folder + filename)\n",
    "    video.reconstruct(\n",
    "        algorithm='adefan', \n",
    "        output_dst='../Results/ReconstructedVideos/ADEFAN/vanilla/' + filename.split('.')[0] + '.mov', \n",
    "        verbose=True, \n",
    "        num_time_frames=99, \n",
    "        beta=10\n",
    "    )"
   ]
  },
  {
   "cell_type": "code",
   "execution_count": null,
   "metadata": {
    "scrolled": true
   },
   "outputs": [],
   "source": [
    "original_folder = '../Resources/Videos/'\n",
    "reconstructed_folder = '../Results/ReconstructedVideos/ADEFAN/vanilla/'\n",
    "\n",
    "adefan_vanilla_psnr_scores = []\n",
    "\n",
    "for original in os.listdir(original_folder):\n",
    "    psnr = Video.psnr(\n",
    "        original_folder + original, \n",
    "        reconstructed_folder + original.split('.')[0] + '.mov'\n",
    "    )\n",
    "    \n",
    "    adefan_vanilla_psnr_scores.append(psnr)"
   ]
  },
  {
   "cell_type": "code",
   "execution_count": 63,
   "metadata": {},
   "outputs": [
    {
     "name": "stdout",
     "output_type": "stream",
     "text": [
      "Mean PSNR for ADEFAN vanilla: 25.11006062159698\n"
     ]
    }
   ],
   "source": [
    "print('Mean PSNR for ADEFAN vanilla:', np.mean(adefan_vanilla_psnr_scores))"
   ]
  },
  {
   "cell_type": "markdown",
   "metadata": {},
   "source": [
    "### Gaussian Averaging"
   ]
  },
  {
   "cell_type": "code",
   "execution_count": null,
   "metadata": {
    "scrolled": true
   },
   "outputs": [],
   "source": [
    "folder = '../Results/CompressedVideos/'\n",
    "for filename in os.listdir(folder):\n",
    "    video = CompressedVideo(folder + filename)\n",
    "    video.reconstruct(\n",
    "        algorithm='adefan', \n",
    "        output_dst='../Results/ReconstructedVideos/ADEFAN/gaussian_avg/' + filename.split('.')[0] + '.mov', \n",
    "        avg_method='gaussian', \n",
    "        verbose=True, \n",
    "        num_time_frames=99, \n",
    "        beta=10\n",
    "    )"
   ]
  },
  {
   "cell_type": "code",
   "execution_count": null,
   "metadata": {
    "scrolled": true
   },
   "outputs": [],
   "source": [
    "original_folder = '../Resources/Videos/'\n",
    "reconstructed_folder = '../Results/ReconstructedVideos/ADEFAN/gaussian_avg/'\n",
    "\n",
    "adefan_gaussian_psnr_scores = []\n",
    "\n",
    "for original in os.listdir(original_folder):\n",
    "    psnr = Video.psnr(\n",
    "        original_folder + original, \n",
    "        reconstructed_folder + original.split('.')[0] + '.mov'\n",
    "    )\n",
    "    \n",
    "    adefan_gaussian_psnr_scores.append(psnr)"
   ]
  },
  {
   "cell_type": "code",
   "execution_count": 69,
   "metadata": {},
   "outputs": [
    {
     "name": "stdout",
     "output_type": "stream",
     "text": [
      "Mean PSNR for ADEFAN gaussian_avg: 25.13123261807901\n"
     ]
    }
   ],
   "source": [
    "print('Mean PSNR for ADEFAN gaussian_avg:', np.mean(adefan_gaussian_psnr_scores))"
   ]
  },
  {
   "cell_type": "markdown",
   "metadata": {},
   "source": [
    "### Filtering by window"
   ]
  },
  {
   "cell_type": "code",
   "execution_count": null,
   "metadata": {
    "scrolled": true
   },
   "outputs": [],
   "source": [
    "folder = '../Results/CompressedVideos/'\n",
    "i = 0\n",
    "for filename in os.listdir(folder):\n",
    "    i += 1\n",
    "    if i >= 36:\n",
    "        video = CompressedVideo(folder + filename)\n",
    "        video.reconstruct(\n",
    "            algorithm='adefan', \n",
    "            output_dst='../Results/ReconstructedVideos/ADEFAN/window_filtering/' + filename.split('.')[0] + '.mov', \n",
    "            filter_type='window', \n",
    "            verbose=True, \n",
    "            num_time_frames=99, \n",
    "            beta=10\n",
    "        )"
   ]
  },
  {
   "cell_type": "code",
   "execution_count": null,
   "metadata": {
    "scrolled": true
   },
   "outputs": [],
   "source": [
    "original_folder = '../Resources/Videos/'\n",
    "reconstructed_folder = '../Results/ReconstructedVideos/ADEFAN/window_filtering/'\n",
    "\n",
    "adefan_window_psnr_scores = []\n",
    "names = []\n",
    "\n",
    "for original in os.listdir(original_folder):\n",
    "    psnr = Video.psnr(\n",
    "        original_folder + original, \n",
    "        reconstructed_folder + original.split('.')[0] + '.mov'\n",
    "    )\n",
    "    \n",
    "    adefan_window_psnr_scores.append(psnr)\n",
    "    names.append(original)"
   ]
  },
  {
   "cell_type": "code",
   "execution_count": 8,
   "metadata": {},
   "outputs": [
    {
     "name": "stdout",
     "output_type": "stream",
     "text": [
      "Mean PSNR for ADEFAN window: 25.132250571958533\n"
     ]
    }
   ],
   "source": [
    "print('Mean PSNR for ADEFAN window:', np.mean(adefan_window_psnr_scores))"
   ]
  },
  {
   "cell_type": "markdown",
   "metadata": {},
   "source": [
    "### Filtering by window and Gaussian Averaging"
   ]
  },
  {
   "cell_type": "code",
   "execution_count": null,
   "metadata": {
    "scrolled": true
   },
   "outputs": [],
   "source": [
    "folder = '../Results/CompressedVideos/'\n",
    "for filename in os.listdir(folder):\n",
    "    video = CompressedVideo(folder + filename)\n",
    "    video.reconstruct(\n",
    "        algorithm='adefan', \n",
    "        output_dst='../Results/ReconstructedVideos/ADEFAN/window_filtering_gaussian_avg/' + filename.split('.')[0] + '.mov', \n",
    "        filter_type='window', \n",
    "        avg_method='gaussian', \n",
    "        verbose=True, \n",
    "        num_time_frames=99, \n",
    "        beta=10\n",
    "    )"
   ]
  },
  {
   "cell_type": "code",
   "execution_count": null,
   "metadata": {
    "scrolled": true
   },
   "outputs": [],
   "source": [
    "original_folder = '../Resources/Videos/'\n",
    "reconstructed_folder = '../Results/ReconstructedVideos/ADEFAN/window_filtering_gaussian_avg/'\n",
    "\n",
    "adefan_gaussian_window_psnr_scores = []\n",
    "\n",
    "for original in os.listdir(original_folder):\n",
    "    psnr = Video.psnr(\n",
    "        original_folder + original, \n",
    "        reconstructed_folder + original.split('.')[0] + '.mov'\n",
    "    )\n",
    "    \n",
    "    adefan_gaussian_window_psnr_scores.append(psnr)"
   ]
  },
  {
   "cell_type": "code",
   "execution_count": 10,
   "metadata": {},
   "outputs": [
    {
     "name": "stdout",
     "output_type": "stream",
     "text": [
      "Mean PSNR for ADEFAN gaussian and window: 25.133267910744255\n"
     ]
    }
   ],
   "source": [
    "print('Mean PSNR for ADEFAN gaussian and window:', np.mean(adefan_gaussian_window_psnr_scores))"
   ]
  },
  {
   "cell_type": "markdown",
   "metadata": {},
   "source": [
    "### Filtering by window, Gaussian Averaging and Variable Sigma Time"
   ]
  },
  {
   "cell_type": "code",
   "execution_count": null,
   "metadata": {
    "scrolled": true
   },
   "outputs": [],
   "source": [
    "folder = '../Results/CompressedVideos/'\n",
    "for filename in os.listdir(folder):\n",
    "    video = CompressedVideo(folder + filename)\n",
    "    video.reconstruct(\n",
    "        algorithm='adefan', \n",
    "        output_dst='../Results/ReconstructedVideos/ADEFAN/window_filtering_gaussian_avg_variable_sigma_time/' + \\\n",
    "            filename.split('.')[0] + '.mov', \n",
    "        filter_type='window', \n",
    "        avg_method='gaussian', \n",
    "        kernel_type='variable', \n",
    "        verbose=True, \n",
    "        num_time_frames=99, \n",
    "        beta=10\n",
    "    )"
   ]
  },
  {
   "cell_type": "code",
   "execution_count": null,
   "metadata": {
    "scrolled": true
   },
   "outputs": [],
   "source": [
    "original_folder = '../Resources/Videos/'\n",
    "reconstructed_folder = '../Results/ReconstructedVideos/ADEFAN/window_filtering_gaussian_avg_variable_sigma_time/'\n",
    "\n",
    "adefan_gaussian_window_sigma_psnr_scores = []\n",
    "\n",
    "for original in os.listdir(original_folder):\n",
    "    psnr = Video.psnr(\n",
    "        original_folder + original, \n",
    "        reconstructed_folder + original.split('.')[0] + '.mov'\n",
    "    )\n",
    "    \n",
    "    adefan_gaussian_window_sigma_psnr_scores.append(psnr)"
   ]
  },
  {
   "cell_type": "code",
   "execution_count": 13,
   "metadata": {},
   "outputs": [
    {
     "name": "stdout",
     "output_type": "stream",
     "text": [
      "Mean PSNR for ADEFAN gaussian, window and variable sigma_time: 25.372016600214508\n"
     ]
    }
   ],
   "source": [
    "print('Mean PSNR for ADEFAN gaussian, window and variable sigma_time:', np.mean(adefan_gaussian_window_sigma_psnr_scores))"
   ]
  },
  {
   "cell_type": "markdown",
   "metadata": {},
   "source": [
    "# Beta parameter optimization"
   ]
  },
  {
   "cell_type": "code",
   "execution_count": null,
   "metadata": {
    "scrolled": false
   },
   "outputs": [],
   "source": [
    "folder = '../Results/CompressedVideos/'\n",
    "original_folder = '../Resources/Videos/'\n",
    "reconstructed_folder = '../Results/ReconstructedVideos/ADEFAN/window_filtering_gaussian_avg_variable_sigma_time/'\n",
    "betas = [2, 4, 8, 10, 13, 14, 15, 16, 17, 20]\n",
    "adefan_gaussian_window_sigma_psnr_scores = {}\n",
    "\n",
    "for beta in betas:\n",
    "    psnr_scores = []\n",
    "    \n",
    "    for filename in os.listdir(folder):\n",
    "        video = CompressedVideo(folder + filename)\n",
    "        video.reconstruct(\n",
    "            algorithm='adefan', \n",
    "            output_dst='../Results/ReconstructedVideos/ADEFAN/window_filtering_gaussian_avg_variable_sigma_time/' + \\\n",
    "                filename.split('.')[0] + '.mov', \n",
    "            filter_type='window', \n",
    "            avg_method='gaussian', \n",
    "            kernel_type='variable', \n",
    "            verbose=True, \n",
    "            num_time_frames=99, \n",
    "            beta=beta\n",
    "        )\n",
    "\n",
    "    for original in os.listdir(original_folder):\n",
    "        psnr = Video.psnr(\n",
    "            original_folder + original, \n",
    "            reconstructed_folder + original.split('.')[0] + '.mov'\n",
    "        )\n",
    "        \n",
    "        psnr_scores.append(psnr)\n",
    "\n",
    "    adefan_gaussian_window_sigma_psnr_scores[str(beta)] = np.mean(psnr_scores)\n",
    "    \n",
    "    print('Mean PSNR with beta =', beta, ':', np.mean(adefan_gaussian_window_sigma_psnr_scores[str(beta)]))"
   ]
  },
  {
   "cell_type": "code",
   "execution_count": 7,
   "metadata": {},
   "outputs": [
    {
     "data": {
      "text/plain": [
       "{'2': 25.0198975455897,\n",
       " '4': 25.237925445564944,\n",
       " '8': 25.44212026795923,\n",
       " '10': 25.48751584628821,\n",
       " '13': 25.515125434401757,\n",
       " '14': 25.516524514278743,\n",
       " '15': 25.514205764319808,\n",
       " '16': 25.50803589598638,\n",
       " '17': 25.499188756892636,\n",
       " '20': 25.46074076304402}"
      ]
     },
     "execution_count": 7,
     "metadata": {},
     "output_type": "execute_result"
    }
   ],
   "source": [
    "adefan_gaussian_window_sigma_psnr_scores"
   ]
  },
  {
   "cell_type": "markdown",
   "metadata": {},
   "source": [
    "# Compute optimal PSNR for ADEFAN"
   ]
  },
  {
   "cell_type": "code",
   "execution_count": null,
   "metadata": {
    "scrolled": true
   },
   "outputs": [],
   "source": [
    "folder = '../Results/CompressedVideos/'\n",
    "original_folder = '../Resources/Videos/'\n",
    "reconstructed_folder = '../Results/ReconstructedVideos/ADEFAN/window_filtering_gaussian_avg_variable_sigma_time/'\n",
    "adefan_gaussian_window_sigma_psnr_scores = {}\n",
    "\n",
    "psnr_scores = []\n",
    "\n",
    "for filename in os.listdir(folder):\n",
    "    video = CompressedVideo(folder + filename)\n",
    "    video.reconstruct(\n",
    "        algorithm='adefan', \n",
    "        output_dst='../Results/ReconstructedVideos/ADEFAN/window_filtering_gaussian_avg_variable_sigma_time/' + \\\n",
    "            filename.split('.')[0] + '.mov', \n",
    "        filter_type='window', \n",
    "        avg_method='gaussian', \n",
    "        kernel_type='variable', \n",
    "        verbose=True, \n",
    "        num_time_frames=99\n",
    "    )\n",
    "\n",
    "for original in os.listdir(original_folder):\n",
    "    psnr = Video.psnr(\n",
    "        original_folder + original, \n",
    "        reconstructed_folder + original.split('.')[0] + '.mov'\n",
    "    )\n",
    "\n",
    "    psnr_scores.append(psnr)\n",
    "\n",
    "optimal_psnr = np.mean(psnr_scores)"
   ]
  },
  {
   "cell_type": "code",
   "execution_count": 5,
   "metadata": {},
   "outputs": [
    {
     "name": "stdout",
     "output_type": "stream",
     "text": [
      "Optimal PSNR for ADEFAN: 25.554743849088748\n"
     ]
    }
   ],
   "source": [
    "print('Optimal PSNR for ADEFAN:', optimal_psnr)"
   ]
  },
  {
   "cell_type": "markdown",
   "metadata": {},
   "source": [
    "# Compute Results for all methods with different percentages"
   ]
  },
  {
   "cell_type": "code",
   "execution_count": null,
   "metadata": {},
   "outputs": [],
   "source": [
    "def compute_results(fraction):\n",
    "    fraction_folder = str(int(fraction * 100)) + 'percent'\n",
    "    \n",
    "    folder = '../Results/CompressedVideos/' + fraction_folder + '/'\n",
    "    original_folder = '../Resources/Videos/'\n",
    "    reconstructed_folder = '../Results/ReconstructedVideos/'\n",
    "    \n",
    "    num_videos = len(os.listdir(original_folder))\n",
    "    \n",
    "    print('Compressing videos')\n",
    "    i = 0\n",
    "    print(str(i) + '/' + str(num_videos), end='\\r')\n",
    "    for video in os.listdir(original_folder):\n",
    "        Video.compress(original_folder + video, fraction=fraction)\n",
    "        i += 1\n",
    "        print(str(i) + '/' + str(num_videos), end='\\r')\n",
    "    print('')\n",
    "    \n",
    "    print('EFAN2D')\n",
    "    i = 0\n",
    "    print(str(i) + '/' + str(num_videos), end='\\r')\n",
    "    for filename in os.listdir(folder):\n",
    "        video = CompressedVideo(folder + filename)\n",
    "        video.reconstruct(\n",
    "            algorithm='efan2d', \n",
    "            output_dst=reconstructed_folder + fraction_folder + '/efan2d/' + filename.split('.')[0] + '.mov'\n",
    "        )\n",
    "        i += 1\n",
    "        print(str(i) + '/' + str(num_videos), end='\\r')\n",
    "    print('')\n",
    "    \n",
    "    print('EFAN3D')\n",
    "    i = 0\n",
    "    print(str(i) + '/' + str(num_videos), end='\\r')\n",
    "    for filename in os.listdir(folder):\n",
    "        video = CompressedVideo(folder + filename)\n",
    "        video.reconstruct(\n",
    "            algorithm='efan3d', \n",
    "            output_dst=reconstructed_folder + fraction_folder + '/efan3d/' + filename.split('.')[0] + '.mov', \n",
    "            num_time_frames=99\n",
    "        )\n",
    "        i += 1\n",
    "        print(str(i) + '/' + str(num_videos), end='\\r')\n",
    "    print('')\n",
    "    \n",
    "    print('ADEFAN')\n",
    "    i = 0\n",
    "    for filename in os.listdir(folder):\n",
    "        video = CompressedVideo(folder + filename)\n",
    "        video.reconstruct(\n",
    "            algorithm='adefan', \n",
    "            output_dst=reconstructed_folder + fraction_folder + '/adefan/' + filename.split('.')[0] + '.mov', \n",
    "            filter_type='window', \n",
    "            avg_method='gaussian'\n",
    "            num_time_frames=99\n",
    "        )\n",
    "        i += 1\n",
    "        print(str(i) + '/' + str(num_videos), end='\\r')\n",
    "    print('')"
   ]
  },
  {
   "cell_type": "code",
   "execution_count": null,
   "metadata": {},
   "outputs": [],
   "source": [
    "original_folder = '../Resources/Videos/'\n",
    "reconstructed_folder = '../Results/ReconstructedVideos/'\n",
    "\n",
    "psnr = {}\n",
    "\n",
    "fractions = [i / 100 for i in range(1, 9)]\n",
    "\n",
    "for fraction in fractions:\n",
    "    fraction_folder = str(int(fraction * 100)) + 'percent'\n",
    "    psnr[fraction_folder] = {'efan2d': [], 'efan3d': [], 'adefan': []}\n",
    "    \n",
    "\n",
    "for original in os.listdir(original_folder):\n",
    "    for fraction in fractions:\n",
    "        fraction_folder = str(int(fraction * 100)) + 'percent'\n",
    "        \n",
    "        psnr_efan2d = Video.psnr(\n",
    "            original_folder + original, \n",
    "            reconstructed_folder + fraction_folder + '/efan2d/' + original.split('.')[0] + '.mov'\n",
    "        )\n",
    "\n",
    "        psnr[fraction_folder]['efan2d'].append(psnr_efan2d)\n",
    "        \n",
    "        psnr_efan3d = Video.psnr(\n",
    "            original_folder + original, \n",
    "            reconstructed_folder + fraction_folder + '/efan3d/' + original.split('.')[0] + '.mov'\n",
    "        )\n",
    "\n",
    "        psnr[fraction_folder]['efan3d'].append(psnr_efan3d)\n",
    "        \n",
    "        psnr_adefan = Video.psnr(\n",
    "            original_folder + original, \n",
    "            reconstructed_folder + fraction_folder + '/adefan/' + original.split('.')[0] + '.mov'\n",
    "        )\n",
    "\n",
    "        psnr[fraction_folder]['adefan'].append(psnr_adefan)"
   ]
  },
  {
   "cell_type": "code",
   "execution_count": null,
   "metadata": {},
   "outputs": [],
   "source": [
    "psnr"
   ]
  },
  {
   "cell_type": "code",
   "execution_count": null,
   "metadata": {},
   "outputs": [],
   "source": []
  },
  {
   "cell_type": "code",
   "execution_count": null,
   "metadata": {},
   "outputs": [],
   "source": []
  },
  {
   "cell_type": "code",
   "execution_count": null,
   "metadata": {},
   "outputs": [],
   "source": []
  },
  {
   "cell_type": "code",
   "execution_count": null,
   "metadata": {},
   "outputs": [],
   "source": []
  },
  {
   "cell_type": "code",
   "execution_count": null,
   "metadata": {},
   "outputs": [],
   "source": []
  },
  {
   "cell_type": "code",
   "execution_count": null,
   "metadata": {},
   "outputs": [],
   "source": []
  },
  {
   "cell_type": "code",
   "execution_count": null,
   "metadata": {},
   "outputs": [],
   "source": []
  },
  {
   "cell_type": "code",
   "execution_count": null,
   "metadata": {},
   "outputs": [],
   "source": []
  }
 ],
 "metadata": {
  "kernelspec": {
   "display_name": "Python 3",
   "language": "python",
   "name": "python3"
  },
  "language_info": {
   "codemirror_mode": {
    "name": "ipython",
    "version": 3
   },
   "file_extension": ".py",
   "mimetype": "text/x-python",
   "name": "python",
   "nbconvert_exporter": "python",
   "pygments_lexer": "ipython3",
   "version": "3.7.3"
  }
 },
 "nbformat": 4,
 "nbformat_minor": 2
}
