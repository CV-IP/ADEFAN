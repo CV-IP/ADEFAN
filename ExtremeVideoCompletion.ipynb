{
 "cells": [
  {
   "cell_type": "code",
   "execution_count": 1,
   "metadata": {},
   "outputs": [],
   "source": [
    "import numpy as np\n",
    "import cv2\n",
    "import time\n",
    "import concurrent.futures as multithreading"
   ]
  },
  {
   "cell_type": "code",
   "execution_count": 3,
   "metadata": {},
   "outputs": [],
   "source": [
    "class Video:\n",
    "    \n",
    "    @staticmethod\n",
    "    def compress(filename, fraction=0.01):\n",
    "\n",
    "        def get_indices(height, width, fraction):\n",
    "\n",
    "            def to_2d(index):\n",
    "                return (index // width, index % width)\n",
    "\n",
    "            samples = np.random.choice(\n",
    "                        np.arange(0, width * height), \n",
    "                        size = int(width * height * fraction), \n",
    "                        replace=False\n",
    "                      )\n",
    "\n",
    "            indices = [to_2d(index) for index in samples]\n",
    "\n",
    "            return tuple(zip(*indices))\n",
    "\n",
    "\n",
    "        def sample_frame(frame, fraction):\n",
    "            height, width, nb_channels = frame.shape\n",
    "\n",
    "            indices = get_indices(height, width, fraction)\n",
    "\n",
    "            return np.expand_dims(frame[indices], axis=0), np.expand_dims(indices, axis=0)\n",
    "\n",
    "\n",
    "        cap = cv2.VideoCapture(filename)\n",
    "        framerate = np.array(cap.get(cv2.cv2.CAP_PROP_FPS))\n",
    "\n",
    "        num_frames = int(cap.get(cv2.CAP_PROP_FRAME_COUNT))\n",
    "        start_time = time.time()\n",
    "\n",
    "        ret, frame = cap.read()\n",
    "        dimensions = np.array(frame.shape)\n",
    "\n",
    "        video, indices = sample_frame(frame, fraction)\n",
    "        curr_frame = 1\n",
    "\n",
    "        while cap.isOpened():\n",
    "            ret, frame = cap.read()\n",
    "\n",
    "            if not ret:\n",
    "                break\n",
    "\n",
    "            sampled_frame, sampled_indices = sample_frame(frame, fraction)\n",
    "\n",
    "            video = np.vstack((video, sampled_frame))\n",
    "            indices = np.vstack((indices, sampled_indices))\n",
    "\n",
    "            curr_frame += 1\n",
    "            print('Compressing Video: ' + str(int(100 * curr_frame / num_frames)) + \n",
    "                  '%\\tTime Elapsed: ' + str(int(np.floor(time.time() - start_time))) + ' seconds', end='\\r')\n",
    "\n",
    "        cap.release()\n",
    "\n",
    "        print('Compressing Video: 100%\\tTime Elapsed: ' + str(int(np.floor(time.time() - start_time))) + ' seconds')\n",
    "\n",
    "        np.savez_compressed(\n",
    "            filename.split('.')[0] + '_compressed', \n",
    "            video=video, \n",
    "            indices=indices, \n",
    "            dimensions=dimensions, \n",
    "            framerate=framerate\n",
    "        )"
   ]
  },
  {
   "cell_type": "code",
   "execution_count": 4,
   "metadata": {},
   "outputs": [],
   "source": [
    "class Kernels:\n",
    "    \n",
    "    @staticmethod\n",
    "    def kernel_2d(kernel_size, sigma):\n",
    "        center = kernel_size // 2\n",
    "        kernel = np.fromfunction(\n",
    "            lambda x, y: \n",
    "                np.exp( -0.5 * ((x - center) ** 2 + (y - center) ** 2) / (sigma ** 2)), \n",
    "            (kernel_size, kernel_size), \n",
    "            dtype=float)\n",
    "\n",
    "        return kernel\n",
    "    \n",
    "    @staticmethod\n",
    "    def kernel_3d(kernel_size, sigma, num_kernels, sigma_time):\n",
    "        center = kernel_size // 2\n",
    "        kernels = np.fromfunction(\n",
    "            lambda t, x, y: \n",
    "                np.exp( -0.5 * (\n",
    "                                 (((x - center) ** 2 + (y - center) ** 2) / (sigma ** 2)) + \n",
    "                                  ((t ** 2) / (sigma_time ** 2))\n",
    "                               )\n",
    "                      ), \n",
    "            (num_kernels, kernel_size, kernel_size), \n",
    "            dtype=float\n",
    "        )\n",
    "        return kernels\n"
   ]
  },
  {
   "cell_type": "code",
   "execution_count": 5,
   "metadata": {},
   "outputs": [],
   "source": [
    "class CompressedVideo:\n",
    "    \n",
    "    def __init__(self, filename):\n",
    "        \n",
    "        file_dict = np.load(filename)\n",
    "        \n",
    "        self.filename = filename.split('_compressed.npz')[0]\n",
    "        self.height = file_dict['dimensions'][0]\n",
    "        self.width = file_dict['dimensions'][1]\n",
    "        self.nb_channels = file_dict['dimensions'][2]\n",
    "        self.video = file_dict['video']\n",
    "        self.indices = file_dict['indices']\n",
    "        self.num_frames = self.video.shape[0]\n",
    "        self.framerate = file_dict['framerate']\n",
    "        \n",
    "        self.defaults = {'kernel_size':     71, \n",
    "                         'sigma':           7, \n",
    "                         'num_time_frames': 11, \n",
    "                         'output_dst':      self.filename + '_reconstructed.mov',\n",
    "                         'multithreaded':   True}\n",
    "    \n",
    "    \n",
    "    def reconstruct(self, algorithm='efan2d', **kwargs):\n",
    "        \n",
    "        if 'kernel_size' in kwargs:\n",
    "            kernel_size = kwargs['kernel_size']\n",
    "        else:\n",
    "            kernel_size = self.defaults['kernel_size']\n",
    "        \n",
    "        if 'sigma' in kwargs:\n",
    "            sigma = kwargs['sigma']\n",
    "        else:\n",
    "            sigma = self.defaults['sigma']\n",
    "        \n",
    "        if 'num_time_frames' in kwargs:\n",
    "            num_time_frames = kwargs['num_time_frames']\n",
    "        else:\n",
    "            num_time_frames = self.defaults['num_time_frames']\n",
    "        \n",
    "        if 'output_dst' in kwargs:\n",
    "            output_dst = kwargs['output_dst']\n",
    "        else:\n",
    "            output_dst = self.defaults['output_dst']\n",
    "        \n",
    "        if 'multithreaded' in kwargs:\n",
    "            multithreaded = kwargs['multithreaded']\n",
    "        else:\n",
    "            multithreaded = self.defaults['multithreaded']\n",
    "        \n",
    "        \n",
    "        def display_progress(frame_index, start_time, filter_times, complete=False):\n",
    "            print('Reconstructing Video: ' + str(int(100 * frame_index / self.num_frames)) + '% ' + \n",
    "                  '\\tTime Elapsed: ' + str(int(np.floor(time.time() - start_time))) + ' seconds ' +\n",
    "                  '\\tFilter Time: '  + str(int(np.floor(np.sum(filter_times)))) + ' seconds', end='\\r')\n",
    "            \n",
    "            if complete:\n",
    "                print('')\n",
    "        \n",
    "        \n",
    "        def prepare_frame(frame_index):\n",
    "            frame = self.video[frame_index]\n",
    "            indices = self.indices[frame_index]\n",
    "\n",
    "            black_frame = np.zeros((self.height, self.width, self.nb_channels), dtype=np.uint8)\n",
    "            black_frame[tuple(indices)] = frame\n",
    "\n",
    "            new_channel = np.zeros((self.height, self.width, 1), dtype=np.uint8)\n",
    "            new_channel[tuple(indices)] = 1\n",
    "\n",
    "            augmented_frame = np.append(black_frame, new_channel, axis=2).astype(float)\n",
    "            \n",
    "            return augmented_frame\n",
    "        \n",
    "        \n",
    "        def normalize_frame(frame):\n",
    "            for i in range(self.nb_channels):\n",
    "                frame[:,:,i] /= frame[:,:,-1]\n",
    "\n",
    "            reconstructed_frame = frame[:,:,:-1].astype(np.uint8)\n",
    "            \n",
    "            return reconstructed_frame\n",
    "        \n",
    "        \n",
    "        def efan2d(output):\n",
    "            \"\"\"\n",
    "            EFAN2D Algorithm\n",
    "            \"\"\"\n",
    "            \n",
    "            filter_times = []\n",
    "\n",
    "            def filter_frame(frame_index, kernel):\n",
    "                augmented_frame = prepare_frame(frame_index)\n",
    "\n",
    "                st = time.time()\n",
    "                filtered = cv2.filter2D(augmented_frame, -1, kernel)\n",
    "                filter_times.append(time.time() - st)\n",
    "                \n",
    "                return filtered\n",
    "            \n",
    "            \n",
    "            def reconstruct_frame(frame_index, kernel):\n",
    "                filtered = filter_frame(frame_index, kernel)\n",
    "                \n",
    "                reconstructed_frame = normalize_frame(filtered)\n",
    "                # Not sure about this, paper formula for reconstruction does not include it\n",
    "                #reconstructed_frame[tuple(indices)] = frame\n",
    "                \n",
    "                return reconstructed_frame\n",
    "            \n",
    "            \n",
    "            start_time = time.time()\n",
    "            \n",
    "            kernel = Kernels.kernel_2d(kernel_size, sigma)\n",
    "            \n",
    "            display_progress(0, start_time, filter_times)\n",
    "            \n",
    "            for frame_index in range(self.num_frames):\n",
    "                output.write(reconstruct_frame(frame_index, kernel))\n",
    "                display_progress(frame_index, start_time, filter_times)\n",
    "            \n",
    "            display_progress(self.num_frames, start_time, filter_times, complete=True)\n",
    "\n",
    "\n",
    "        def efan3d(output):\n",
    "            \"\"\"\n",
    "            EFAN3D Algorithm\n",
    "            \"\"\"\n",
    "            \n",
    "            num_kernels = (num_time_frames + 1) // 2\n",
    "            sigma_time = (num_kernels - 1) / 6\n",
    "            \n",
    "            filter_times = []\n",
    "            \n",
    "            def filter_frame(frame_index, kernels):\n",
    "                augmented_frame = prepare_frame(frame_index)\n",
    "\n",
    "                st = time.time()\n",
    "                \n",
    "                if multithreaded:\n",
    "                    filtered_frame = [None for i in range(num_kernels)]\n",
    "\n",
    "                    def apply_kernel(kernel_index):\n",
    "                        filtered = cv2.filter2D(augmented_frame, -1, kernels[kernel_index])\n",
    "                        filtered_frame[kernel_index] = filtered\n",
    "\n",
    "                    with multithreading.ThreadPoolExecutor(max_workers=num_kernels) as executor:\n",
    "                        executor.map(apply_kernel, range(num_kernels))\n",
    "                \n",
    "                else:\n",
    "                    filtered_frame = []\n",
    "                    for kernel in kernels:\n",
    "                        filtered = cv2.filter2D(augmented_frame, -1, kernel)\n",
    "                        filtered_frame.append(filtered)\n",
    "                \n",
    "                filter_times.append(time.time() - st)\n",
    "                \n",
    "                return filtered_frame\n",
    "            \n",
    "            \n",
    "            def reconstruct_frame(frame_index, filtered_frames):\n",
    "                filtered_sum = np.zeros((self.height, self.width, self.nb_channels + 1))\n",
    "            \n",
    "                nb_past_frames = min(frame_index, num_kernels - 1)\n",
    "                for idx in range(nb_past_frames):\n",
    "                    filtered_sum += filtered_frames[idx][nb_past_frames - idx]\n",
    "\n",
    "                nb_future_frames = min(self.num_frames - frame_index, num_kernels)\n",
    "                for idx in range(nb_future_frames):\n",
    "                    filtered_sum += filtered_frames[min(frame_index, num_kernels - 1) + idx][idx]\n",
    "                \n",
    "                reconstructed_frame = normalize_frame(filtered_sum)\n",
    "                \n",
    "                return reconstructed_frame\n",
    "            \n",
    "            \n",
    "            start_time = time.time()\n",
    "            \n",
    "            kernels = Kernels.kernel_3d(kernel_size, sigma, num_kernels, sigma_time)\n",
    "            \n",
    "            filtered_frames = []\n",
    "            \n",
    "            display_progress(0, start_time, filter_times)\n",
    "            \n",
    "            for frame_index in range(self.num_frames):\n",
    "                \n",
    "                if frame_index == 0:\n",
    "                    for idx in range(num_kernels):\n",
    "                        filtered_frames.append(filter_frame(idx, kernels))\n",
    "                        \n",
    "                elif frame_index < num_kernels:\n",
    "                    filtered_frames.append(filter_frame((num_kernels - 1) + frame_index, kernels))\n",
    "                    \n",
    "                elif frame_index <= self.num_frames - num_kernels:\n",
    "                    filtered_frames.append(filter_frame((num_kernels - 1) + frame_index, kernels))\n",
    "                    filtered_frames = filtered_frames[1:]\n",
    "                    \n",
    "                else:\n",
    "                    filtered_frames = filtered_frames[1:]\n",
    "                \n",
    "                output.write(reconstruct_frame(frame_index, filtered_frames))\n",
    "                \n",
    "                display_progress(frame_index, start_time, filter_times)\n",
    "            \n",
    "            display_progress(self.num_frames, start_time, filter_times)\n",
    "        \n",
    "        \n",
    "        def adefan(output):\n",
    "            pass\n",
    "            \n",
    "        \n",
    "        output = cv2.VideoWriter(\n",
    "                    output_dst, \n",
    "                    cv2.VideoWriter_fourcc('M','J','P','G'), \n",
    "                    self.framerate, \n",
    "                    (self.width, self.height)\n",
    "                 )\n",
    "        \n",
    "        if algorithm == 'efan2d':\n",
    "            efan2d(output)\n",
    "        elif algorithm == 'efan3d':\n",
    "            efan3d(output)\n",
    "        elif algorithm == 'adefan':\n",
    "            adefan(output)\n",
    "        \n",
    "        output.release()\n",
    "    "
   ]
  },
  {
   "cell_type": "code",
   "execution_count": 15,
   "metadata": {},
   "outputs": [
    {
     "name": "stdout",
     "output_type": "stream",
     "text": [
      "Compressing Video: 100%\tTime Elapsed: 42 seconds\n"
     ]
    }
   ],
   "source": [
    "Video.compress('Beach.mp4')"
   ]
  },
  {
   "cell_type": "code",
   "execution_count": 16,
   "metadata": {},
   "outputs": [],
   "source": [
    "video = CompressedVideo('Beach_compressed.npz')"
   ]
  },
  {
   "cell_type": "code",
   "execution_count": 17,
   "metadata": {},
   "outputs": [
    {
     "name": "stdout",
     "output_type": "stream",
     "text": [
      "Reconstructing Video: 100% \tTime Elapsed: 129 seconds \tFilter Time: 92 seconds\n"
     ]
    }
   ],
   "source": [
    "video.reconstruct(algorithm='efan2d', output_dst='ef2.mov')"
   ]
  },
  {
   "cell_type": "code",
   "execution_count": 18,
   "metadata": {
    "scrolled": true
   },
   "outputs": [
    {
     "name": "stdout",
     "output_type": "stream",
     "text": [
      "Reconstructing Video: 100% \tTime Elapsed: 351 seconds \tFilter Time: 251 seconds\r"
     ]
    }
   ],
   "source": [
    "video.reconstruct(algorithm='efan3d', multithreaded=True, output_dst='ef3.mov')"
   ]
  },
  {
   "cell_type": "code",
   "execution_count": 19,
   "metadata": {},
   "outputs": [
    {
     "name": "stdout",
     "output_type": "stream",
     "text": [
      "Reconstructing Video: 100% \tTime Elapsed: 753 seconds \tFilter Time: 644 seconds\r"
     ]
    }
   ],
   "source": [
    "video.reconstruct(algorithm='efan3d', multithreaded=False, output_dst='ef3singlethreaded.mov')"
   ]
  },
  {
   "cell_type": "code",
   "execution_count": 20,
   "metadata": {},
   "outputs": [
    {
     "name": "stdout",
     "output_type": "stream",
     "text": [
      "Compressing Video: 100%\tTime Elapsed: 1 seconds\n"
     ]
    }
   ],
   "source": [
    "Video.compress('Seal.mp4')"
   ]
  },
  {
   "cell_type": "code",
   "execution_count": 21,
   "metadata": {},
   "outputs": [],
   "source": [
    "seal = CompressedVideo('Seal_compressed.npz')"
   ]
  },
  {
   "cell_type": "code",
   "execution_count": 22,
   "metadata": {},
   "outputs": [
    {
     "name": "stdout",
     "output_type": "stream",
     "text": [
      "Reconstructing Video: 100% \tTime Elapsed: 8 seconds \tFilter Time: 6 seconds\n"
     ]
    }
   ],
   "source": [
    "seal.reconstruct(algorithm='efan2d', output_dst='seal_ef2.mov')"
   ]
  },
  {
   "cell_type": "code",
   "execution_count": 23,
   "metadata": {},
   "outputs": [
    {
     "name": "stdout",
     "output_type": "stream",
     "text": [
      "Reconstructing Video: 100% \tTime Elapsed: 27 seconds \tFilter Time: 20 seconds\r"
     ]
    }
   ],
   "source": [
    "seal.reconstruct(algorithm='efan3d', multithreaded=True, output_dst='seal_ef3.mov')"
   ]
  },
  {
   "cell_type": "code",
   "execution_count": 24,
   "metadata": {},
   "outputs": [
    {
     "name": "stdout",
     "output_type": "stream",
     "text": [
      "Reconstructing Video: 100% \tTime Elapsed: 58 seconds \tFilter Time: 52 seconds\r"
     ]
    }
   ],
   "source": [
    "seal.reconstruct(algorithm='efan3d', multithreaded=False, output_dst='seal_ef3singlethreaded.mov')"
   ]
  },
  {
   "cell_type": "code",
   "execution_count": null,
   "metadata": {},
   "outputs": [],
   "source": []
  },
  {
   "cell_type": "code",
   "execution_count": 29,
   "metadata": {},
   "outputs": [
    {
     "name": "stdout",
     "output_type": "stream",
     "text": [
      "Naive python operations / array indexing: 29.6 hours\n",
      "Numpy (C) operations / array indexing: 9.6 minutes\n",
      "Numpy speedup: 185.0 times faster\n"
     ]
    }
   ],
   "source": [
    "##################################\n",
    "##### Optimization Benchmark #####\n",
    "##################################\n",
    "\n",
    "height = 720\n",
    "width = 1280\n",
    "num_channels = 3\n",
    "length = 38 #seconds\n",
    "framerate = 24\n",
    "num_frames = length * framerate\n",
    "anchor_x = 400\n",
    "anchor_y = 400\n",
    "num_rand_pixels = (height * width) // 100\n",
    "\n",
    "kernel_size = 71\n",
    "kernel = Kernels.kernel_2d(kernel_size, 20)\n",
    "r = (kernel_size - 1) // 2\n",
    "\n",
    "###########################\n",
    "##### Naive Operation #####\n",
    "###########################\n",
    "\n",
    "st = time.time()\n",
    "\n",
    "kernel_dict = {}\n",
    "for i in range(256):\n",
    "    kernel_dict[i] = kernel * i\n",
    "\n",
    "filtered = np.zeros((height, width, num_channels + 1));\n",
    "\n",
    "for idx in range(num_rand_pixels // 100):\n",
    "    k = kernel_dict[np.random.randint(0,256)]\n",
    "    for c in range(num_channels + 1):\n",
    "        for y in range(kernel_size):\n",
    "            for x in range(kernel_size):\n",
    "                filtered[anchor_x-r+y,anchor_y-r+x,c] += k[x,y]\n",
    "tot_time_naive = (time.time() - st) * num_frames * 100\n",
    "print('Naive python operations / array indexing:', np.around(tot_time_naive / 3600, 1), 'hours')\n",
    "\n",
    "###########################\n",
    "##### Numpy Optimized #####\n",
    "###########################\n",
    "\n",
    "st = time.time()\n",
    "\n",
    "filtered = filtered = np.zeros((height, width, num_channels + 1));\n",
    "\n",
    "kernel_dict = {}\n",
    "for i in range(256):\n",
    "    kernel_dict[i] = kernel * i\n",
    "\n",
    "for i in range(num_rand_pixels):\n",
    "    for c in range(num_channels + 1):\n",
    "        filtered[anchor_y-r:anchor_y+r+1, anchor_x-r:anchor_x+r+1, c] += kernel_dict[np.random.randint(0,256)]\n",
    "\n",
    "tot_time_numpy = (time.time() - st) * num_frames\n",
    "print('Numpy (C) operations / array indexing:', np.around(tot_time_numpy / 60, 1), 'minutes')\n",
    "print('Numpy speedup:', np.around(tot_time_naive / tot_time_numpy, 1), 'times faster')"
   ]
  },
  {
   "cell_type": "markdown",
   "metadata": {
    "scrolled": true
   },
   "source": [
    "The equivalent of the MATLAB / C++ implementation would take over 29 hours to reconstruct the video using python operations and almost 10 minutes using numpy operations. Since numpy is already written in C there isn't much more to do to speed up the additions / multiplications / array indexing. Even using numpy this is still more than 4 times slower than using opencv to interpolate the value of each pixel (Probably because of the time gained by using filter2D which uses the FFT algorithm)."
   ]
  },
  {
   "cell_type": "code",
   "execution_count": null,
   "metadata": {},
   "outputs": [],
   "source": []
  },
  {
   "cell_type": "code",
   "execution_count": null,
   "metadata": {},
   "outputs": [],
   "source": []
  },
  {
   "cell_type": "code",
   "execution_count": null,
   "metadata": {},
   "outputs": [],
   "source": []
  }
 ],
 "metadata": {
  "kernelspec": {
   "display_name": "Python 3",
   "language": "python",
   "name": "python3"
  },
  "language_info": {
   "codemirror_mode": {
    "name": "ipython",
    "version": 3
   },
   "file_extension": ".py",
   "mimetype": "text/x-python",
   "name": "python",
   "nbconvert_exporter": "python",
   "pygments_lexer": "ipython3",
   "version": "3.7.3"
  }
 },
 "nbformat": 4,
 "nbformat_minor": 2
}
